{
  "nbformat": 4,
  "nbformat_minor": 0,
  "metadata": {
    "colab": {
      "name": "Untitled",
      "provenance": [],
      "toc_visible": true,
      "mount_file_id": "1iLaJnTyrElhz9edFLVofmio8krMzurWj",
      "authorship_tag": "ABX9TyOfoaQHzDYc6RogLfZ1WXJE",
      "include_colab_link": true
    },
    "kernelspec": {
      "name": "python3",
      "display_name": "Python 3"
    }
  },
  "cells": [
    {
      "cell_type": "markdown",
      "metadata": {
        "id": "view-in-github",
        "colab_type": "text"
      },
      "source": [
        "<a href=\"https://colab.research.google.com/github/increpare/tatoeba_toki_pona_spellcheck/blob/main/collab_notebook.ipynb\" target=\"_parent\"><img src=\"https://colab.research.google.com/assets/colab-badge.svg\" alt=\"Open In Colab\"/></a>"
      ]
    },
    {
      "cell_type": "code",
      "metadata": {
        "id": "SDfou7miwh1e",
        "colab": {
          "base_uri": "https://localhost:8080/"
        },
        "outputId": "5024e12b-a86b-4417-ef29-13bb8b6dc918"
      },
      "source": [
        "import os\n",
        "import urllib.request\n",
        "print(\"downloading toki pona sentences from tatoeba\")\n",
        "urllib.request.urlretrieve('https://downloads.tatoeba.org/exports/per_language/toki/toki_sentences.tsv.bz2', 'toki_sentences.tsv.bz2')\n",
        "\n",
        "!rm -rf /content/toki_sentences.tsv\n",
        "\n",
        "print(\"decompressing data\")\n",
        "!bunzip2 /content/toki_sentences.tsv.bz2\n",
        "\n"
      ],
      "execution_count": 3,
      "outputs": [
        {
          "output_type": "stream",
          "text": [
            "downloading toki pona sentences from tatoeba\n",
            "decompressing data\n"
          ],
          "name": "stdout"
        }
      ]
    },
    {
      "cell_type": "code",
      "metadata": {
        "id": "DA-EAzIgztwb"
      },
      "source": [
        "\n",
        "import pandas as pd\n",
        "df = pd.read_csv(\"/content/toki_sentences.tsv\",names=[\"k\",\"v\"],delimiter=\"\\t\")\n",
        "words = [\"a\",\"akesi\",\"ala\",\"ali\",\"alasa\",\"ale\",\"anpa\",\"ante\",\"anu\",\"awen\",\"e\",\"en\",\"esun\",\"ijo\",\"ike\",\"ilo\",\"insa\",\"jaki\",\"jan\",\"jelo\",\"jo\",\"kala\",\"kalama\",\"kama\",\"kasi\",\"ken\",\"kepeken\",\"kili\",\"kin\",\"kipisi\",\"kiwen\",\"ko\",\"kon\",\"kule\",\"kulupu\",\"kute\",\"la\",\"lape\",\"laso\",\"lawa\",\"leko\",\"len\",\"lete\",\"li\",\"lili\",\"linja\",\"lipu\",\"loje\",\"lon\",\"luka\",\"lukin\",\"lupa\",\"ma\",\"mama\",\"mani\",\"meli\",\"mi\",\"mije\",\"moku\",\"moli\",\"monsi\",\"monsuta\",\"mu\",\"mun\",\"musi\",\"mute\",\"namako\",\"nanpa\",\"nasa\",\"nasin\",\"nena\",\"ni\",\"nimi\",\"noka\",\"o\",\"oko\",\"olin\",\"ona\",\"open\",\"pakala\",\"pali\",\"palisa\",\"pan\",\"pana\",\"pi\",\"pilin\",\"pimeja\",\"pini\",\"pipi\",\"poka\",\"poki\",\"pona\",\"pu\",\"sama\",\"seli\",\"selo\",\"seme\",\"sewi\",\"sijelo\",\"sike\",\"sin\",\"sina\",\"sinpin\",\"sitelen\",\"sona\",\"soweli\",\"suli\",\"suno\",\"supa\",\"suwi\",\"tan\",\"taso\",\"tawa\",\"telo\",\"tenpo\",\"toki\",\"tomo\",\"tonsi\",\"tu\",\"unpa\",\"uta\",\"utala\",\"walo\",\"wan\",\"waso\",\"wawa\",\"weka\",\"wile\"]"
      ],
      "execution_count": 4,
      "outputs": []
    },
    {
      "cell_type": "code",
      "metadata": {
        "colab": {
          "base_uri": "https://localhost:8080/"
        },
        "id": "J9GlA3om1Gsz",
        "outputId": "a7bdeb64-fa19-4097-ba42-bbba2ddee1b8"
      },
      "source": [
        "import re\n",
        "\n",
        "def validate(w):\n",
        "  if w[0].isupper():\n",
        "    return True\n",
        "  return w in words\n",
        "\n",
        "freq={}\n",
        "\n",
        "for index, row in df.iterrows():\n",
        "  import re\n",
        "  tokens = re.findall(r'\\w+',row['v'])\n",
        "  for w in tokens:\n",
        "    if not validate(w):\n",
        "      if w==\"pomo\":\n",
        "        print(row['v'])\n",
        "      if w not in freq:\n",
        "        freq[w]=0\n",
        "      freq[w]=freq[w]+1\n",
        "      break"
      ],
      "execution_count": 5,
      "outputs": [
        {
          "output_type": "stream",
          "text": [
            "kili pomo li lon ni. mi lukin e ona.\n",
            "sina wile ala wile moku e kili pomo? - wile ala. mi moku e kili tu lon tenpo pini.\n"
          ],
          "name": "stdout"
        }
      ]
    },
    {
      "cell_type": "code",
      "metadata": {
        "id": "paYYpNIJ2Jln",
        "colab": {
          "base_uri": "https://localhost:8080/"
        },
        "outputId": "a3ac5f9e-3953-407f-a7dd-f2807cfc95d8"
      },
      "source": [
        "d_view = [ (v,k) for k,v in freq.items() ]\n",
        "d_view.sort(reverse=True) # natively sort tuples by first element\n",
        "for v,k in d_view:\n",
        "    print(\"%s: %d\" % (k,v))"
      ],
      "execution_count": 6,
      "outputs": [
        {
          "output_type": "stream",
          "text": [
            "sitlen: 5\n",
            "sielo: 5\n",
            "pimjea: 5\n",
            "ton: 4\n",
            "tempo: 4\n",
            "56: 4\n",
            "teno: 3\n",
            "sitelten: 3\n",
            "sitele: 3\n",
            "pata: 3\n",
            "3: 3\n",
            "18: 3\n",
            "sono: 2\n",
            "siejelo: 2\n",
            "pomo: 2\n",
            "naso: 2\n",
            "napa: 2\n",
            "mons: 2\n",
            "lupo: 2\n",
            "lo: 2\n",
            "lijna: 2\n",
            "kali: 2\n",
            "ja: 2\n",
            "al: 2\n",
            "4: 2\n",
            "2: 2\n",
            "ъ: 1\n",
            "ĉiutage: 1\n",
            "ß: 1\n",
            "wille: 1\n",
            "will: 1\n",
            "wila: 1\n",
            "werden: 1\n",
            "waju: 1\n",
            "uuu: 1\n",
            "utata: 1\n",
            "unu: 1\n",
            "tepo: 1\n",
            "tenp: 1\n",
            "tenop: 1\n",
            "temp: 1\n",
            "temo: 1\n",
            "teka: 1\n",
            "supo: 1\n",
            "suo: 1\n",
            "sss: 1\n",
            "sitlene: 1\n",
            "sins: 1\n",
            "sine: 1\n",
            "sijo: 1\n",
            "sijeo: 1\n",
            "siejlo: 1\n",
            "powe: 1\n",
            "pono: 1\n",
            "pon: 1\n",
            "pokl: 1\n",
            "pmeja: 1\n",
            "plilin: 1\n",
            "pip: 1\n",
            "pani: 1\n",
            "p: 1\n",
            "oni: 1\n",
            "oli: 1\n",
            "nunpa: 1\n",
            "non: 1\n",
            "noko: 1\n",
            "nasina: 1\n",
            "muno: 1\n",
            "molu: 1\n",
            "mo: 1\n",
            "mir: 1\n",
            "mijel: 1\n",
            "miau: 1\n",
            "mel: 1\n",
            "m: 1\n",
            "lukln: 1\n",
            "luki: 1\n",
            "lli: 1\n",
            "ll: 1\n",
            "lila: 1\n",
            "liji: 1\n",
            "lan: 1\n",
            "kupupu: 1\n",
            "kulupi: 1\n",
            "kona: 1\n",
            "kepken: 1\n",
            "kekepen: 1\n",
            "katala: 1\n",
            "kalam: 1\n",
            "kakatutututu: 1\n",
            "joe: 1\n",
            "janTon: 1\n",
            "ino: 1\n",
            "in: 1\n",
            "ili: 1\n",
            "il: 1\n",
            "ii: 1\n",
            "eni: 1\n",
            "duplicate: 1\n",
            "du: 1\n",
            "cat: 1\n",
            "awa: 1\n",
            "au: 1\n",
            "anticonstitutionnellement: 1\n",
            "ani: 1\n",
            "9: 1\n",
            "789: 1\n",
            "69: 1\n",
            "65: 1\n",
            "60: 1\n",
            "6: 1\n",
            "59: 1\n",
            "500: 1\n",
            "5: 1\n",
            "39: 1\n",
            "300: 1\n",
            "25: 1\n",
            "24: 1\n",
            "2010: 1\n",
            "2009: 1\n",
            "20: 1\n",
            "1970: 1\n",
            "119: 1\n",
            "110: 1\n",
            "105: 1\n",
            "007: 1\n",
            "0: 1\n"
          ],
          "name": "stdout"
        }
      ]
    },
    {
      "cell_type": "code",
      "metadata": {
        "id": "Ul3UfL5d2IXz"
      },
      "source": [
        ""
      ],
      "execution_count": null,
      "outputs": []
    }
  ]
}
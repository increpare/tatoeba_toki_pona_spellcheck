{
  "nbformat": 4,
  "nbformat_minor": 0,
  "metadata": {
    "colab": {
      "name": "tatoeba_turkish_spellcheck.ipynb",
      "provenance": [],
      "collapsed_sections": [],
      "include_colab_link": true
    },
    "kernelspec": {
      "display_name": "Python 3",
      "language": "python",
      "name": "python3"
    },
    "language_info": {
      "codemirror_mode": {
        "name": "ipython",
        "version": 3
      },
      "file_extension": ".py",
      "mimetype": "text/x-python",
      "name": "python",
      "nbconvert_exporter": "python",
      "pygments_lexer": "ipython3",
      "version": "3.7.7"
    },
    "widgets": {
      "application/vnd.jupyter.widget-state+json": {
        "efcc2c75538d4db4bfd0ebd79a233716": {
          "model_module": "@jupyter-widgets/controls",
          "model_name": "IntProgressModel",
          "state": {
            "_view_name": "ProgressView",
            "style": "IPY_MODEL_b8d841dea8c346ba9bc70e22d16af1e6",
            "_dom_classes": [],
            "description": "searching...",
            "_model_name": "IntProgressModel",
            "bar_style": "",
            "max": 694417,
            "_view_module": "@jupyter-widgets/controls",
            "_model_module_version": "1.5.0",
            "value": 694000,
            "_view_count": null,
            "_view_module_version": "1.5.0",
            "orientation": "horizontal",
            "min": 0,
            "description_tooltip": null,
            "_model_module": "@jupyter-widgets/controls",
            "layout": "IPY_MODEL_4c0a53f58f8a4a4ca8fe350a9317ef89"
          }
        },
        "b8d841dea8c346ba9bc70e22d16af1e6": {
          "model_module": "@jupyter-widgets/controls",
          "model_name": "ProgressStyleModel",
          "state": {
            "_view_name": "StyleView",
            "_model_name": "ProgressStyleModel",
            "description_width": "",
            "_view_module": "@jupyter-widgets/base",
            "_model_module_version": "1.5.0",
            "_view_count": null,
            "_view_module_version": "1.2.0",
            "bar_color": null,
            "_model_module": "@jupyter-widgets/controls"
          }
        },
        "4c0a53f58f8a4a4ca8fe350a9317ef89": {
          "model_module": "@jupyter-widgets/base",
          "model_name": "LayoutModel",
          "state": {
            "_view_name": "LayoutView",
            "grid_template_rows": null,
            "right": null,
            "justify_content": null,
            "_view_module": "@jupyter-widgets/base",
            "overflow": null,
            "_model_module_version": "1.2.0",
            "_view_count": null,
            "flex_flow": null,
            "width": null,
            "min_width": null,
            "border": null,
            "align_items": null,
            "bottom": null,
            "_model_module": "@jupyter-widgets/base",
            "top": null,
            "grid_column": null,
            "overflow_y": null,
            "overflow_x": null,
            "grid_auto_flow": null,
            "grid_area": null,
            "grid_template_columns": null,
            "flex": null,
            "_model_name": "LayoutModel",
            "justify_items": null,
            "grid_row": null,
            "max_height": null,
            "align_content": null,
            "visibility": null,
            "align_self": null,
            "height": null,
            "min_height": null,
            "padding": null,
            "grid_auto_rows": null,
            "grid_gap": null,
            "max_width": null,
            "order": null,
            "_view_module_version": "1.2.0",
            "grid_template_areas": null,
            "object_position": null,
            "object_fit": null,
            "grid_auto_columns": null,
            "margin": null,
            "display": null,
            "left": null
          }
        }
      }
    }
  },
  "cells": [
    {
      "cell_type": "markdown",
      "metadata": {
        "id": "view-in-github",
        "colab_type": "text"
      },
      "source": [
        "<a href=\"https://colab.research.google.com/github/increpare/tatoeba_toki_pona_spellcheck/blob/main/tatoeba_turkish_spellcheck.ipynb\" target=\"_parent\"><img src=\"https://colab.research.google.com/assets/colab-badge.svg\" alt=\"Open In Colab\"/></a>"
      ]
    },
    {
      "cell_type": "code",
      "metadata": {
        "id": "SDfou7miwh1e"
      },
      "source": [
        "replacements = \"\"\"\n",
"...çca -> ...çça
"...çce -> ...ççe
"...çci -> ...ççi
"...çcı -> ...ççı
"...çcu -> ...ççu
"...çcü -> ...ççü
"...çda -> ...çta
"...çdan -> ...çtan
"...çde -> ...çte
"...çden -> ...çten
"...fca -> ...fça
"...fce -> ...fçe
"...fci -> ...fçi
"...fcı -> ...fçı
"...fcu -> ...fçu
"...fcü -> ...fçü
"...fda -> ...fta
"...fdan -> ...ftan
"...fde -> ...fte
"...fden -> ...ften
"...hca -> ...hça
"...hce -> ...hçe
"...hci -> ...hçi
"...hcı -> ...hçı
"...hcu -> ...hçu
"...hcü -> ...hçü
"...hda -> ...hta
"...hdan -> ...htan
"...hde -> ...hte
"...hden -> ...hten
"...kca -> ...kça
"...kce -> ...kçe
"...kci -> ...kçi
"...kcı -> ...kçı
"...kcu -> ...kçu
"...kcü -> ...kçü
"...kda -> ...kta
"...kdan -> ...ktan
"...kde -> ...kte
"...kden -> ...kten
"...pca -> ...pça
"...pce -> ...pçe
"...pci -> ...pçi
"...pcı -> ...pçı
"...pcu -> ...pçu
"...pcü -> ...pçü
"...pda -> ...pta
"...pdan -> ...ptan
"...pde -> ...pte
"...pden -> ...pten
"...sca -> ...sça
"...sce -> ...sçe
"...sci -> ...sçi
"...scı -> ...sçı
"...scu -> ...sçu
"...scü -> ...sçü
"...sda -> ...sta
"...sdan -> ...stan
"...sde -> ...ste
"...sden -> ...sten
"...şca -> ...şça
"...şce -> ...şçe
"...şci -> ...şçi
"...şcı -> ...şçı
"...şcu -> ...şçu
"...şcü -> ...şçü
"...şda -> ...şta
"...şdan -> ...ştan
"...şde -> ...şte
"...şden -> ...şten
"acenta... -> acente...
"aç gözlü... -> açgözlü...
"açıkca... -> açıkça...
"adele... -> adale...
"afedersin... -> affedersin...
"aksesuvar... -> aksesuar...
"aktrist... -> aktris...
"akıl almaz... -> akılalmaz...
"Alaman... -> Alman...
"allerji... -> alerji...
"alt üst... -> altüst...
"alış veriş... -> alışveriş...
"aliminyum... -> alüminyum...
"ambülans... -> ambulans
"ampül... -> ampul...
"ana okulu... -> anaokulu...
"antreman... -> antrenman...
"apandist... -> apandisit...
"aperatif... -> aperitif...
"Arab -> Arap
"Arabça... -> Arapça...
"arasıra... -> ara sıra...
"ardarda... -> art arda...
"Arjentin... -> Arjantin...
"atmış... -> altmış... (çoğu false positive)
"avusturalya... -> avustralya...
"ayırım... -> ayrım...
"Azarbaycan... -> Azerbaycan
"Azarbeycan... -> Azerbaycan
"Azerbeycan... -> Azerbaycan
"banço... -> banjo...
"başbaşa... -> baş başa...
"başı boş... -> başıboş...
"belkide... -> belki de...
"benle... -> benimle...
"beysbol... -> beyzbol...
"bir kaç... -> birkaç...
"bir çok... -> birçok...
"birarada... -> bir arada...
"birden bire... -> birdenbire...
"Biritan... -> Britan...
"birsürü... -> bir sürü...
"Brazilya... -> Brezilya...
"bu gün... -> bugün...
"bugünki... -> bugünkü...
"bulüz... -> bluz...
"burda... -> burada...
"buyrun... -> buyurun...
"büfte... -> bifte...
"büyük anne... -> büyükanne...
"büyük baba... -> büyükbaba...
"can kurtaran... -> cankurtaran...
"cimnastik... -> jimnastik...
"çarşanba... -> çarşamba...
"çeki düzen... -> çekidüzen...
"çokaz... -> çok az...
"çoşku... -> coşku...
"dahada... -> daha da...
"deniz aşırı... -> denizaşırı...
"değilmi... -> değil mi...
"deyer... -> değer...
"deyme... -> değme...
"doğumgünü... -> doğum günü...
"döküman... -> doküman...
"döğdü... -> dövdü...
"döğüş... -> dövüş...
"dünki... -> dünkü...
"düz taban... -> düztaban...
"eczahane... -> eczane...
"eksoz... -> egzoz...
"elele... -> el ele...
"entellektüel... -> entelektüel...
"eposta... -> e-posta...
"eylence... -> eğlence...
"eylenmek... -> eğlenmek...
"fantazi... -> fantezi...
"farked... -> fark ed...
"farket... -> fark et...
"farzed... -> farz ed...
"farzet... -> farz et...
"Fırans... -> Frans...
"filim... -> film...
"fonksyon... -> fonksiyon...
"fotograf... -> fotoğraf...
"gardrop... -> gardırop...
"gurup... -> grup...
"gök kuşağı... -> gökkuşağı...
"gök yüzü... -> gökyüzü...
"göz yaşı... -> gözyaşı...
"gözardı... -> göz ardı...
"gözkulak... -> göz kulak...
"gözüpek... -> gözü pek...
"haftasonu... -> hafta sonu...
"haked... -> hak ed...
"haket... -> hak et...
"hakket... -> hak et...
"halbu ki... > halbuki...
"hastahane... -> hastane...
"hava alanı... -> havaalanı...
"hava limanı... -> havalimanı...
"hem fikir... -> hemfikir...
"hemde... -> hem de...
"her hangi... -> herhangi...
"hergün... -> her gün...
"herkez... -> herkes...
"herne... -> her ne...
"heryer... -> her yer...
"herzaman... -> her zaman...
"herşey... -> her şey...
"hiç bir... -> hiçbir...
"hiçkimse... -> hiç kimse...
"hiçte... -> hiç de...
"humani... -> hümani...
"ısraf... -> israf...
"iki yüzlü... -> ikiyüzlü...
"ilk okul... -> ilkokul...
"insan oğlu... -> insanoğlu...
"insiyatif... -> inisiyatif...
"israr... -> ısrar...
"istakoz... -> ıstakoz...
"istambul... -> istanbul...
"itibariyle... -> itibarıyla...
"iyiki... -> iyi ki...
"kamu oyu... -> kamuoyu...
"kapşon... -> kapüşon...
"kareografi... -> koreografi...
"kaysı... -> kayısı...
"klavuz... -> kılavuz...
"klüp... -> kulüp...
"kolleksiyon... -> koleksiyon...
"kominist... -> komünist...
"kompartman... -> kompartıman...
"koperatif... -> kooperatif...
"kılınç... -> kılıç...
"kıral... -> kral...
"kıraliyet... -> kraliyet...
"kıraliçe... -> kraliçe...
"kırallık... -> krallık...
"kızarkadaş... -> kız arkadaş...
"kızkardeş... -> kız kardeş...
"Kürdçe... -> Kürtçe...
"labaratuar... -> laboratuvar...
"labaratuvar... -> laboratuvar...
"madem ki... -> mademki...
"mahçup... -> mahcup...
"makina... -> makine...
"malesef... -> maalesef...
"malolmak... -> mal olmak...
"Marry... -> Mary...
"Mary'e... -> Mary'ye...
"Mary'i... -> Mary'yi...
"Mary'le... -> Mary'yle...
"matamatik... -> matematik...
"menejer... -> menajer...
"metod -> metot
"metodlar... -> metotlar..
"metotu... -> metodu...
"meyva... -> meyve...
"meşkul... -> meşgul...
"motorsiklet... -> motosiklet...
"müdahele... -> müdahale...
"müsade... -> müsaade...
"müstehak... -> müstahak...
"mütevazi... -> mütevazı...
"nerde... -> nerede...
"neyseki... -> neyse ki...
"nufus... -> nüfus...
"okur yazar... -> okuryazar...
"onaltı... -> on altı...
"onbeş... -> on beş...
"onbir... -> on bir...
"ondokuz... -> on dokuz...
"ondört... -> on dört...
"oniki... -> on iki...
"onla -> onunla
"onsekiz... -> on sekiz...
"onyedi... -> on yedi...
"onüç... -> on üç...
"orda... -> orada...
"orjinal... -> orijinal...
"orta okul... -> ortaokul...
"oysa ki... -> oysaki...
"pantalon... -> pantolon...
"parlemento... -> parlamento...
"pastahane... -> pastane...
"pekaz... -> pek az...
"pekçok... -> pek çok...
"penbe... -> pembe...
"perşenbe... -> perşembe...
"peşpeşe... -> peş peşe...
"pilaj... -> plaj...\n",
"postahane... -> postane...\n",
"proğram... -> program...\n",
"rasgele... -> rastgele...\n",
"rasgelm... -> rast gelm...\n",
"raslantı... -> rastlantı...\n",
"sarfed... -> sarf ed...\n",
"sarfet... -> sarf et...\n",
"sarmısak... -> sarımsak...\n",
"senle... -> seninle...\n",
"sivri sinek... -> sivrisinek...\n",
"sohpet... -> sohbet...\n",
"sueter... -> süveter...\n",
"süpriz... -> sürpriz...\n",
"şöför... -> şoför...\n",
"tabi ki... -> tabii ki...\n",
"taktir... -> takdir...\n",
"terked... -> terk ed...\n",
"terket... -> terk et...\n",
"tesbih... -> tespih...\n",
"tesbit... -> tespit...\n",
"traş... -> tıraş...\n",
"Türküye... -> Türkiye...\n",
"umru... -> umuru...\n",
"ünüversite... -> üniversite...\n",
"ünvan... -> unvan...\n",
"vaz geç... -> vazgeç...\n",
"yada -> ya da\n",
"yanlız... -> yalnız...\n",
"yanyana... -> yan yana...\n",
"yanısıra... -> yanı sıra...\n",
"yinede... -> yine de...\n",
"yüksek okul... -> yüksekokul...\n",
"yüz ölçüm... -> yüzölçüm...\n",
"zıttı... -> zıddı...\n",
        "\"\"\"\n",
        "\n",
        "\n",
        "\n"
      ],
      "execution_count": 14,
      "outputs": []
    },
    {
      "cell_type": "code",
      "metadata": {
        "id": "umAxrvcN-FyB"
      },
      "source": [
        "import re\n",
        "\n",
        "change_lines = replacements.split(\"\\n\")\n",
        "\n",
        "change_lines = [ line.strip() for line in change_lines if not len(line.strip())==0]\n",
        "\n",
        "#filtering out asterisks \"We have two Turkish language associations and they have differences of opinion about spelling of some words and that word is one of them. I put an asterisk at the beginning of them to indicate that. I now replaced them with ※ to avoid confusion.\"\n",
        "replacements_noasterisk = [ line for line in change_lines if not \"*\" in line ]\n",
        "\n",
        "\n",
        "\n",
        "replacements_simple = [ line for line in replacements_noasterisk if (not \"/\" in line) and (not \"...\" in line)]\n",
        "replacements_multi = [ line for line in replacements_noasterisk if (\"/\" in line)]\n",
        "\n",
        "regex_start = re.compile(r\"\\b\\.\\.\\.\\B\")\n",
        "replacements_regex_start = [ line for line in replacements_noasterisk if bool(regex_start.search(line))]\n",
        "\n",
        "regex_end = re.compile(r\"\\B\\.\\.\\.\\b\")\n",
        "replacements_regex_end = [ line for line in replacements_noasterisk if bool(regex_end.search(line))]\n",
        "\n",
        "\n",
        "def toLower_turkish(s):\n",
        "  s = s.replace(\"I\", \"ı\")\n",
        "  s = s.replace(\"İ\", \"i\")\n",
        "  return s.lower()\n",
        "\n",
        "def parseline(l):\n",
        "  lr = l.split(\"->\")\n",
        "  src = toLower_turkish(lr[0].strip())\n",
        "  dst = lr[1].strip()\n",
        "  bracket_index = dst.find(\"(\")  \n",
        "  if bracket_index>=0:\n",
        "    cleave = dst.split(\"(\")\n",
        "    dst = cleave[0].strip()\n",
        "  return {\"src\":src,\"dst\":dst,\"message\":l}\n",
        "\n",
        "change_lines = replacements.split(\"\\n\")\n",
        "\n",
        "replacement_rules = []\n",
        "\n",
        "\n",
        "\n",
        "# simple rules A -> B\n",
        "for line in replacements_simple:\n",
        "  parsed = parseline(line)\n",
        "  regex = re.compile(r\"\\b\"+parsed[\"src\"]+r\"\\b\")\n",
        "  replacement_rules.append({\n",
        "      \"regex\":regex,\n",
        "      \"change_from\":parsed[\"src\"],\n",
        "      \"change_to\":parsed[\"dst\"],\n",
        "      \"message\":parsed[\"message\"]\n",
        "  }) \n",
        "\n",
        "\n",
        "#1 rules like \"A/B -> C\" or \"A/B/C -> D/E/F\"\n",
        "\n",
        "for line in replacements_multi:\n",
        "  parsed = parseline(line)\n",
        "  change_from=parsed[\"src\"]\n",
        "  change_to=parsed[\"dst\"]\n",
        "  \n",
        "  from_parts=change_from.split(\"/\")\n",
        "  to_parts=change_to.split(\"/\")\n",
        "    \n",
        "  #rules like \"Labaratuar/Labaratuvar -> Laboratuvar\"\n",
        "  if len(from_parts)>0 and len(to_parts)==1:\n",
        "    for from_part in from_parts:\n",
        "      regex = re.compile(r\"\\b\"+from_part+r\"\\b\")\n",
        "      replacement_rules.append({\n",
        "          \"regex\":regex,\n",
        "          \"change_from\":from_part.strip(),\n",
        "          \"change_to\":change_to,\n",
        "          \"message\":parsed[\"message\"]\n",
        "      }) \n",
        "  elif len(from_parts)==len(to_parts):\n",
        "    i=0\n",
        "    while i<len(from_parts):\n",
        "        from_part = from_parts[i].strip()\n",
        "        to_part = to_parts[i].strip()\n",
        "        regex = re.compile(r\"\\b\"+from_part+r\"\\b\")\n",
        "        replacement_rules.append({\n",
        "          \"regex\":regex,\n",
        "          \"change_from\":from_part,\n",
        "          \"change_to\":to_part,\n",
        "          \"message\":parsed[\"message\"]\n",
        "        }) \n",
        "        \n",
        "        i=i+1\n",
        "  else:\n",
        "    print(\"don't know how to interpret rule '\"+parsed[\"message\"]+\"'.\")\n",
        "\n",
        "\n",
        "\n",
        "    \n",
        "# suffix rules ...A -> ...B\n",
        "for line in replacements_regex_end:\n",
        "  parsed = parseline(line)\n",
        "  change_from=parsed[\"src\"].replace(\"...\",\"\")\n",
        "  regex = re.compile(change_from+r\"\\b\")\n",
        "  replacement_rules.append({\n",
        "      \"regex\":regex,\n",
        "      \"change_from\":parsed[\"src\"],\n",
        "      \"change_to\":parsed[\"dst\"],\n",
        "      \"message\":parsed[\"message\"]\n",
        "  }) \n",
        "   \n",
        "# prefix rules ...A -> ...B\n",
        "for line in replacements_regex_start:\n",
        "  parsed = parseline(line)\n",
        "  change_from=parsed[\"src\"].replace(\"...\",\"\")\n",
        "  regex = re.compile(r\"\\b\"+change_from)\n",
        "  replacement_rules.append({\n",
        "      \"regex\":regex,\n",
        "      \"change_from\":parsed[\"src\"],\n",
        "      \"change_to\":parsed[\"dst\"],\n",
        "      \"message\":parsed[\"message\"]\n",
        "  }) \n",
        "\n",
        "\n"
      ],
      "execution_count": 15,
      "outputs": []
    },
    {
      "cell_type": "code",
      "metadata": {
        "colab": {
          "base_uri": "https://localhost:8080/"
        },
        "id": "eD9eSABC2Flt",
        "outputId": "46d09297-5f43-4ba5-f78b-92656a77e024"
      },
      "source": [
        "\n",
        "!pip install emoji\n",
        "\n",
        "import os\n",
        "import urllib.request\n",
        "from IPython.display import Markdown, display\n",
        "from emoji import UNICODE_EMOJI\n",
        "\n"
      ],
      "execution_count": 16,
      "outputs": [
        {
          "output_type": "stream",
          "text": [
            "Requirement already satisfied: emoji in /usr/local/lib/python3.6/dist-packages (0.6.0)\n"
          ],
          "name": "stdout"
        }
      ]
    },
    {
      "cell_type": "code",
      "metadata": {
        "colab": {
          "base_uri": "https://localhost:8080/"
        },
        "id": "cn-KO_TP2Bg1",
        "outputId": "9c5414b2-35c0-4830-bb70-573db42e0be5"
      },
      "source": [
        "\n",
        "\n",
        "\n",
        "print(\"downloading Turkish sentences from tatoeba\")\n",
        "urllib.request.urlretrieve('https://downloads.tatoeba.org/exports/per_language/tur/tur_sentences_detailed.tsv.bz2', 'tur_sentences_detailed.tsv.bz2')\n",
        "\n",
        "!rm -rf /content/tur_sentences_detailed.tsv\n",
        "\n",
        "print(\"decompressing data\")\n",
        "!bunzip2 /content/tur_sentences_detailed.tsv.bz2\n",
        "print(\"done\")\n"
      ],
      "execution_count": 17,
      "outputs": [
        {
          "output_type": "stream",
          "text": [
            "downloading Turkish sentences from tatoeba\n",
            "decompressing data\n",
            "done\n"
          ],
          "name": "stdout"
        }
      ]
    },
    {
      "cell_type": "code",
      "metadata": {
        "id": "J9GlA3om1Gsz"
      },
      "source": [
        "import re\n",
        "import pandas as pd\n",
        "from io import StringIO\n",
        "\n",
        "df = pd.read_csv(\"/content/tur_sentences_detailed.tsv\",names=[\"k\",\"v\",\"user\",\"added\",\"modified\"],delimiter=\"\\t\",quoting=3)"
      ],
      "execution_count": 18,
      "outputs": []
    },
    {
      "cell_type": "code",
      "metadata": {
        "colab": {
          "base_uri": "https://localhost:8080/",
          "height": 1000,
          "referenced_widgets": [
            "efcc2c75538d4db4bfd0ebd79a233716",
            "b8d841dea8c346ba9bc70e22d16af1e6",
            "4c0a53f58f8a4a4ca8fe350a9317ef89"
          ]
        },
        "id": "wyjKm5R9migE",
        "outputId": "34a25c46-7f1d-4982-d576-fa2c6229db85"
      },
      "source": [
        "def has_emoji(s):\n",
        "    count = 0\n",
        "    for emoji in UNICODE_EMOJI:\n",
        "        count += s.count(emoji)\n",
        "        if count >= 1:\n",
        "            return True\n",
        "    return False\n",
        "\n",
        "errors={}\n",
        "\n",
        "# checks for \"mi/sina\" li sentences, and roughly for sentences with an \"e\" but without a \"li\"/\"o\"/\"mi\"/\"sina\"\n",
        "def validate_sentence(s,index,user):    \n",
        "  s_lower=toLower_turkish(s)\n",
        "  if user not in errors:\n",
        "    errors[user]=[]\n",
        "\n",
        "  for replacement_data in replacement_rules:\n",
        "    regex=replacement_data[\"regex\"]\n",
        "    if regex.search(s_lower):\n",
        "      errors[user].append([s,index,replacement_data[\"message\"]])\n",
        "\n",
        "    \n",
        "\n",
        "freq={}\n",
        "links={}\n",
        "id_table={}\n",
        "\n",
        "from ipywidgets import IntProgress\n",
        "from IPython.display import display\n",
        "f = IntProgress(min=0, max=len(df),description=\"searching...\") # instantiate the bar\n",
        "\n",
        "display(f) # display the bar\n",
        "\n",
        "def printm(s):\n",
        "  global output\n",
        "  output=output+\"\\n\"+s;\n",
        "    \n",
        "i=0\n",
        "for index, row in df.iterrows():\n",
        "  id_table[index]=row\n",
        "  user = row['user']\n",
        "  sentence=row['v']\n",
        "  validate_sentence(sentence,index,user)\n",
        "  i=i+1\n",
        "  if (i%1000)==0:\n",
        "        f.value=i\n",
        "\n",
        "print(\"all sentences processed\")\n",
        "\n",
        "import datetime\n",
        "from ipywidgets import IntProgress\n",
        "from IPython.display import display\n",
        "\n",
        "output=\"# Tatoeba Turkish Spellcheck Report\\n\\n\"+str(datetime.datetime.now())+\"\\n\\n\"\n",
        "\n",
        "\n",
        "\n",
        "for u in errors:\n",
        "  errorlist = errors[u]\n",
        "  if len(errorlist)==0:\n",
        "    continue\n",
        "  printm(\"\\n\")\n",
        "  printm(\"***\")\n",
        "  printm(\" \\n\")\n",
        "  printm(\"### Likely Error report for user [\"+u+\"](https://tatoeba.org/eng/user/profile/\"+u+\").\")\n",
        "  printm(\"\\n\")\n",
        "  for error in errorlist:\n",
        "    printm(\"\"+error[0]+\"  \")\n",
        "    printm(\"- \"+str(error[2])+\"  \")\n",
        "    printm(\"- http://tatoeba.org/eng/sentences/show/\"+str(error[1])+\"  \")\n",
        "    printm(\"\")\n",
        "printm(\"***\")\n",
        "display(Markdown(output))\n",
        "\n",
        "print(\"done\")"
      ],
      "execution_count": 19,
      "outputs": [
        {
          "output_type": "display_data",
          "data": {
            "application/vnd.jupyter.widget-view+json": {
              "model_id": "efcc2c75538d4db4bfd0ebd79a233716",
              "version_minor": 0,
              "version_major": 2
            },
            "text/plain": [
              "IntProgress(value=0, description='searching...', max=694417)"
            ]
          },
          "metadata": {
            "tags": []
          }
        },
        {
          "output_type": "stream",
          "text": [
            "all sentences processed\n"
          ],
          "name": "stdout"
        },
        {
          "output_type": "display_data",
          "data": {
            "text/markdown": "# Tatoeba Turkish Spellcheck Report\n\n2020-11-25 18:26:07.918569\n\n\n\n\n***\n \n\n### Likely Error report for user [ritualesatanum](https://tatoeba.org/eng/user/profile/ritualesatanum).\n\n\nÇiy, çiçeğin göz yaşıdır.  \n- göz yaşı... -> gözyaşı...  \n- http://tatoeba.org/eng/sentences/show/8315461  \n\nTom her gece Mary'i arıyor.  \n- mary'i... -> mary'yi...  \n- http://tatoeba.org/eng/sentences/show/8421700  \n\n\n\n***\n \n\n### Likely Error report for user [duran](https://tatoeba.org/eng/user/profile/duran).\n\n\nO Pablo ile evleneceğini açıkça ilan ettiğinde, neredeyse büyük annesine kalp krizi geçirtecekti , halasının gözlerini yuvasından fırlattıracaktı fakat küçük kız kardeşi gururla baktı.  \n- büyük anne... -> büyükanne...  \n- http://tatoeba.org/eng/sentences/show/851224  \n\nBu günlerde çok meşgulüm!  \n- bu gün... -> bugün...  \n- http://tatoeba.org/eng/sentences/show/860768  \n\nBize ve başka herkese bu günü hatırlatmak için, bizimle birlikte herkese bir ağaç dikmesini rica ediyorum.  \n- bu gün... -> bugün...  \n- http://tatoeba.org/eng/sentences/show/867933  \n\nO, genç olduğu için, hasta büyük annesine özveriyle hizmet etti.  \n- büyük anne... -> büyükanne...  \n- http://tatoeba.org/eng/sentences/show/1006149  \n\nBu tavuk bu günlerde hiç yumurtlamıyor.  \n- bu gün... -> bugün...  \n- http://tatoeba.org/eng/sentences/show/1022050  \n\nO, bu günlerde onunla arasına mesafe koyuyor.  \n- bu gün... -> bugün...  \n- http://tatoeba.org/eng/sentences/show/1034172  \n\nHerkes bana bu günlerde Tony dedi.  \n- bu gün... -> bugün...  \n- http://tatoeba.org/eng/sentences/show/1036024  \n\nBu günlerden biri bu günlerden hiçbiri değil.  \n- bu gün... -> bugün...  \n- http://tatoeba.org/eng/sentences/show/1037975  \n\nOğlum yüksek okula girdi.  \n- yüksek okul... -> yüksekokul...  \n- http://tatoeba.org/eng/sentences/show/1066321  \n\nO, bu günlerde yaptığı araştırmayı ihmal ediyor.  \n- bu gün... -> bugün...  \n- http://tatoeba.org/eng/sentences/show/1077835  \n\nOnlar bizim bu günlerden birinde bir deprem yaşayacağımızı söylüyorlar.  \n- bu gün... -> bugün...  \n- http://tatoeba.org/eng/sentences/show/1087563  \n\nBu günlerden birinde niçin evime gelmiyorsun?  \n- bu gün... -> bugün...  \n- http://tatoeba.org/eng/sentences/show/1087570  \n\nJohn bu günlerde endişesiz.  \n- bu gün... -> bugün...  \n- http://tatoeba.org/eng/sentences/show/1101142  \n\nJohn bu günlerde çok içiyor. Biz onu artık içmemesi için durdurmak zorundayız.  \n- bu gün... -> bugün...  \n- http://tatoeba.org/eng/sentences/show/1101145  \n\nOnun sonunda konuşma sanatı ve mantık ile ilgili , Socrates metodunda herhangi bir anlaşmazlık örneği ile biten ikincisinin sonunda iki küçük skeç vardı.  \n- metod... -> metot...  \n- http://tatoeba.org/eng/sentences/show/1103919  \n\nTom bu günlerde başarılı.  \n- bu gün... -> bugün...  \n- http://tatoeba.org/eng/sentences/show/1110763  \n\nTom bu günkü durumunu karısına borçludur.  \n- bu gün... -> bugün...  \n- http://tatoeba.org/eng/sentences/show/1111279  \n\nNeyse ki, biz bir kaçış yolu bulduk.  \n- bir kaç... -> birkaç...  \n- http://tatoeba.org/eng/sentences/show/1116724  \n\nBu bir sigara- içilmez kompartmanıdır.  \n- kompartman... -> kompartıman...  \n- http://tatoeba.org/eng/sentences/show/1118540  \n\nBu günlerde zaman geçirmek için bahçe işleriyle uğraşıyorum.  \n- bu gün... -> bugün...  \n- http://tatoeba.org/eng/sentences/show/1121207  \n\nBu günlerde iş edinmek zor.  \n- bu gün... -> bugün...  \n- http://tatoeba.org/eng/sentences/show/1121210  \n\nTom her zaman kendi metoduna sahip olduğu için sinir bozucudur.  \n- metod... -> metot...  \n- http://tatoeba.org/eng/sentences/show/1124523  \n\nTom Mary'in markette biraz diş macunu ve biraz tuvalet kağıdı almasını istedi.  \n- mary'i... -> mary'yi...  \n- http://tatoeba.org/eng/sentences/show/1126801  \n\nTom ve Mary bu günlerde asla birbirlerini görmüyorlar.  \n- bu gün... -> bugün...  \n- http://tatoeba.org/eng/sentences/show/1165756  \n\nKesinlikle Tom'un sigortası atmış.  \n- atmış... -> altmış... (çoğu false positive)  \n- http://tatoeba.org/eng/sentences/show/1197858  \n\nTom Mary'yi bir beyzbol sopasıyla öldüresiye döğdü.  \n- döğdü... -> dövdü...  \n- http://tatoeba.org/eng/sentences/show/1200336  \n\nEskiden Tom'la çok takılırdım, fakat o bu günlerde çok fazla buralarda değil.  \n- bu gün... -> bugün...  \n- http://tatoeba.org/eng/sentences/show/1202678  \n\nBu kitap bu günlerde iyi satıyor.  \n- bu gün... -> bugün...  \n- http://tatoeba.org/eng/sentences/show/1203692  \n\nTom defter tutma metodumuzu benimsedi.  \n- metod... -> metot...  \n- http://tatoeba.org/eng/sentences/show/1226953  \n\nBert yüksek okula gitmez, değil mi?  \n- yüksek okul... -> yüksekokul...  \n- http://tatoeba.org/eng/sentences/show/1231378  \n\nPaul bu günlerde çok sıkı çalışıyor.  \n- bu gün... -> bugün...  \n- http://tatoeba.org/eng/sentences/show/1239509  \n\nBir sigorta atmış.  \n- atmış... -> altmış... (çoğu false positive)  \n- http://tatoeba.org/eng/sentences/show/1253431  \n\nBenim birsürü kitabım var.  \n- birsürü... -> bir sürü...  \n- http://tatoeba.org/eng/sentences/show/1255925  \n\nZahmete deymez.  \n- deyme... -> değme...  \n- http://tatoeba.org/eng/sentences/show/1280983  \n\nBabamın birsürü kitabı var.  \n- birsürü... -> bir sürü...  \n- http://tatoeba.org/eng/sentences/show/1285091  \n\nBu günlerde ben çok meşgulüm.  \n- bu gün... -> bugün...  \n- http://tatoeba.org/eng/sentences/show/1298141  \n\nBu günler çok meşgulüm.  \n- bu gün... -> bugün...  \n- http://tatoeba.org/eng/sentences/show/1298613  \n\nEt bu günlerde pahalı.  \n- bu gün... -> bugün...  \n- http://tatoeba.org/eng/sentences/show/1306869  \n\nKız arkadaşım bir aktristir.  \n- aktrist... -> aktris...  \n- http://tatoeba.org/eng/sentences/show/1329706  \n\nHayat bu günlerde zorlaşıyor.  \n- bu gün... -> bugün...  \n- http://tatoeba.org/eng/sentences/show/1416400  \n\nBu günlerde ne iş yapıyorsun?  \n- bu gün... -> bugün...  \n- http://tatoeba.org/eng/sentences/show/1451135  \n\nHerhangi bir tür Tayland yiyeceği asla yemedim, bu yüzden büyük annemle birlikte bir Tayland restoranına gitme hakkında oldukça heyecanlıyım.  \n- büyük anne... -> büyükanne...  \n- http://tatoeba.org/eng/sentences/show/1473231  \n\nFiyatlar bu günlerde istikrarlıdır.  \n- bu gün... -> bugün...  \n- http://tatoeba.org/eng/sentences/show/1510918  \n\nBu günlerde çok yalnız hissediyorum.  \n- bu gün... -> bugün...  \n- http://tatoeba.org/eng/sentences/show/1524964  \n\nBu günlerde iş çok kesat.  \n- bu gün... -> bugün...  \n- http://tatoeba.org/eng/sentences/show/1558563  \n\nBu günlerde iş bulmak zordur.  \n- bu gün... -> bugün...  \n- http://tatoeba.org/eng/sentences/show/1613504  \n\nOna bir kaçma şansı verdiler.  \n- bir kaç... -> birkaç...  \n- http://tatoeba.org/eng/sentences/show/1620469  \n\nBu günlerde kilo alıyorum.  \n- bu gün... -> bugün...  \n- http://tatoeba.org/eng/sentences/show/1632941  \n\nBacak bacak üstüne atmış şekilde orada oturdu.  \n- atmış... -> altmış... (çoğu false positive)  \n- http://tatoeba.org/eng/sentences/show/1649868  \n\nBu günlerde az sayıda öğrenci kurşun kalem kullanıyor.  \n- bu gün... -> bugün...  \n- http://tatoeba.org/eng/sentences/show/1665883  \n\nO, bu günlerde görünmüyor.  \n- bu gün... -> bugün...  \n- http://tatoeba.org/eng/sentences/show/1666665  \n\nBu günlerde babamı az görüyorum.  \n- bu gün... -> bugün...  \n- http://tatoeba.org/eng/sentences/show/1704308  \n\nGelecek Cuma saat 15:00'te Japon'yadan ayrılacağız.  \n- yada... -> ya da...  \n- http://tatoeba.org/eng/sentences/show/1716272  \n\nBu günlerden birinde seni oraya götüreceğim.  \n- bu gün... -> bugün...  \n- http://tatoeba.org/eng/sentences/show/1725141  \n\nBu günlerde görüşüm kötüleşiyor.  \n- bu gün... -> bugün...  \n- http://tatoeba.org/eng/sentences/show/1726101  \n\nSenin metodlarınla hiçbir şekilde aynı fikirde değilim.  \n- metod... -> metot...  \n- http://tatoeba.org/eng/sentences/show/1738548  \n\nBu günlerde sizi görmeye geleceğim.  \n- bu gün... -> bugün...  \n- http://tatoeba.org/eng/sentences/show/1760002  \n\nBu günlerde bir dolarla çok şey alınmaz.  \n- bu gün... -> bugün...  \n- http://tatoeba.org/eng/sentences/show/1770646  \n\nBu günlerde onu tekrar göreceğim.  \n- bu gün... -> bugün...  \n- http://tatoeba.org/eng/sentences/show/1899576  \n\nBu metodun işe yarayıp yaramayacağı şüpheli.  \n- metod... -> metot...  \n- http://tatoeba.org/eng/sentences/show/1904668  \n\nDosyalarını organize etmek için hangi metodu kullanıyorsunuz?  \n- metod... -> metot...  \n- http://tatoeba.org/eng/sentences/show/1965555  \n\nBu günlerde bana gittikçe daha az sıklıkta yazıyor.  \n- bu gün... -> bugün...  \n- http://tatoeba.org/eng/sentences/show/1976570  \n\nBirçok genç Japon bu günlerde yurt dışına seyahat ediyor.  \n- bu gün... -> bugün...  \n- http://tatoeba.org/eng/sentences/show/1978521  \n\nBu günlerden birinde seni ziyaret etmeyi düşünüyorum.  \n- bu gün... -> bugün...  \n- http://tatoeba.org/eng/sentences/show/1990663  \n\nBu günlerde, \"aslan payı\" genellikle \"en büyük pay\" anlamına gelmektedir; fakat çok geçmeden önce \"onun hepsi\" anlamına geliyordu.  \n- bu gün... -> bugün...  \n- http://tatoeba.org/eng/sentences/show/2034866  \n\nTom bir kaçak.  \n- bir kaç... -> birkaç...  \n- http://tatoeba.org/eng/sentences/show/2036989  \n\nGreta Garbo İsveçli bir aktristi.  \n- aktrist... -> aktris...  \n- http://tatoeba.org/eng/sentences/show/2043287  \n\nSigorta atmış.  \n- atmış... -> altmış... (çoğu false positive)  \n- http://tatoeba.org/eng/sentences/show/2050842  \n\nSadece bir kaçamaktı.  \n- bir kaç... -> birkaç...  \n- http://tatoeba.org/eng/sentences/show/2060206  \n\nBurada hiç bira yok.  \n- hiç bir... -> hiçbir...  \n- http://tatoeba.org/eng/sentences/show/2100200  \n\nOnlar hiç bira içmez.  \n- hiç bir... -> hiçbir...  \n- http://tatoeba.org/eng/sentences/show/2138108  \n\nGazete haberlerinin hepsi doğru değilmiş demek.  \n- değilmi... -> değil mi...  \n- http://tatoeba.org/eng/sentences/show/2476694  \n\nAllah bu günümüzü aratmasın.  \n- bu gün... -> bugün...  \n- http://tatoeba.org/eng/sentences/show/2534264  \n\nBiz can kurtaranlarız.  \n- can kurtaran... -> cankurtaran...  \n- http://tatoeba.org/eng/sentences/show/2591239  \n\nBu metodun avantajları ve dezavantajları nelerdir?  \n- metod... -> metot...  \n- http://tatoeba.org/eng/sentences/show/2849943  \n\nBu günlerde bir sürü inşaat devam ediyor.  \n- bu gün... -> bugün...  \n- http://tatoeba.org/eng/sentences/show/2951023  \n\nTom hiç bira içmedi.  \n- hiç bir... -> hiçbir...  \n- http://tatoeba.org/eng/sentences/show/2979433  \n\nBu günlerde birçok şey insanları korkutuyor.  \n- bu gün... -> bugün...  \n- http://tatoeba.org/eng/sentences/show/3018639  \n\nŞimdiye kadar yüksek okulda olmam gerekiyordu.  \n- yüksek okul... -> yüksekokul...  \n- http://tatoeba.org/eng/sentences/show/3077471  \n\nSen kalıbının adamı değilmişsin.  \n- değilmi... -> değil mi...  \n- http://tatoeba.org/eng/sentences/show/3086023  \n\nFizik öğretmenim kalıbının adamı değilmiş.  \n- değilmi... -> değil mi...  \n- http://tatoeba.org/eng/sentences/show/3086026  \n\nDün gece hiç bira içmedim.  \n- hiç bir... -> hiçbir...  \n- http://tatoeba.org/eng/sentences/show/3752014  \n\nBu günlerde seni görmeye can atıyorum.  \n- bu gün... -> bugün...  \n- http://tatoeba.org/eng/sentences/show/3792071  \n\nBu günlerde mutluyum.  \n- bu gün... -> bugün...  \n- http://tatoeba.org/eng/sentences/show/3857350  \n\nBu bir kaçan fırsattı.  \n- bir kaç... -> birkaç...  \n- http://tatoeba.org/eng/sentences/show/3892021  \n\nDaha iyi bir fikir yokluğunda bu metodu seçmek zorunda kaldım.  \n- metod... -> metot...  \n- http://tatoeba.org/eng/sentences/show/3925170  \n\nSiz ikiniz hiç birlikte tenis oynar mısınız?  \n- hiç bir... -> hiçbir...  \n- http://tatoeba.org/eng/sentences/show/3933035  \n\nSiz üçünüz hiç birlikte Boston'a gider misiniz?  \n- hiç bir... -> hiçbir...  \n- http://tatoeba.org/eng/sentences/show/3933036  \n\nTom yatakta bacak bacak üstüne atmış oturuyordu.  \n- atmış... -> altmış... (çoğu false positive)  \n- http://tatoeba.org/eng/sentences/show/3949083  \n\nBu günlerde çok meşgul olmalısın.  \n- bu gün... -> bugün...  \n- http://tatoeba.org/eng/sentences/show/3966334  \n\nSen ve Tom hiç birbirinizi öptünüz mü?  \n- hiç bir... -> hiçbir...  \n- http://tatoeba.org/eng/sentences/show/4059455  \n\nOnikiparmak bağırsağı ince bağırsağın bir bölümüdür.  \n- oniki... -> on iki...  \n- http://tatoeba.org/eng/sentences/show/4099499  \n\nBu günler otostop yapmak iyi bir fikir değil. Tehlikeli olabilir.  \n- bu gün... -> bugün...  \n- http://tatoeba.org/eng/sentences/show/4099624  \n\nTom bu güneş gözlüğünü satın almak istedi ama o çok pahalıydı.  \n- bu gün... -> bugün...  \n- http://tatoeba.org/eng/sentences/show/4117797  \n\nBu günler Tom'la birlikte çalışıyorum.  \n- bu gün... -> bugün...  \n- http://tatoeba.org/eng/sentences/show/4121431  \n\nNe yazık ki büyük annemin ne bir kümesi ne de bir motosikleti vardı.  \n- büyük anne... -> büyükanne...  \n- http://tatoeba.org/eng/sentences/show/4128686  \n\nBuradan kirişi kıralım.  \n- kıral... -> kral...  \n- http://tatoeba.org/eng/sentences/show/4173827  \n\nTom hiçbir şey yanlış değilmiş gibi davranmaya çalıştı.  \n- değilmi... -> değil mi...  \n- http://tatoeba.org/eng/sentences/show/4224202  \n\nBu günlerde, sık sık yağmur yağar.  \n- bu gün... -> bugün...  \n- http://tatoeba.org/eng/sentences/show/4433432  \n\nTom bu günlerde ne iş yapıyor?  \n- bu gün... -> bugün...  \n- http://tatoeba.org/eng/sentences/show/4452372  \n\nBu günlerde, birçok erkek hemşire var.  \n- bu gün... -> bugün...  \n- http://tatoeba.org/eng/sentences/show/4476958  \n\nTom ve Mary'nin hiç birlikte döneceklerini sanmıyorum.  \n- hiç bir... -> hiçbir...  \n- http://tatoeba.org/eng/sentences/show/4537084  \n\nCan kurtaranlar çok cesur.  \n- can kurtaran... -> cankurtaran...  \n- http://tatoeba.org/eng/sentences/show/4564367  \n\nYüksek okuldayken üç yıl Boston'da yaşadım.  \n- yüksek okul... -> yüksekokul...  \n- http://tatoeba.org/eng/sentences/show/4573835  \n\nBu günün geleceğini her zaman biliyordum.  \n- bu gün... -> bugün...  \n- http://tatoeba.org/eng/sentences/show/4583145  \n\nBu günün bitmesini istemiyorum.  \n- bu gün... -> bugün...  \n- http://tatoeba.org/eng/sentences/show/4594105  \n\nBu günlerde çoğu giyim Çin'den ithal edilmektedir.  \n- bu gün... -> bugün...  \n- http://tatoeba.org/eng/sentences/show/4629243  \n\nBunu temizlemek bir sürü zaman, kan, ter ve göz yaşı aldı.  \n- göz yaşı... -> gözyaşı...  \n- http://tatoeba.org/eng/sentences/show/4639648  \n\nBu günlerde konferanslardan bıktım.  \n- bu gün... -> bugün...  \n- http://tatoeba.org/eng/sentences/show/4644207  \n\nHapishanedeyken, Tom bir kaçış girişiminde bulundu.  \n- bir kaç... -> birkaç...  \n- http://tatoeba.org/eng/sentences/show/4659763  \n\nDan onun hücre arkadaşlarından biriyle bir kaçış planı kurdu.  \n- bir kaç... -> birkaç...  \n- http://tatoeba.org/eng/sentences/show/4659961  \n\nBu günler oldukça çok kar yağar.  \n- bu gün... -> bugün...  \n- http://tatoeba.org/eng/sentences/show/4667852  \n\nSen ve Tom hiç birlikte buz patenine gittiniz mi?  \n- hiç bir... -> hiçbir...  \n- http://tatoeba.org/eng/sentences/show/4685179  \n\nBu günlerde seyahat çok paraya mal oluyor.  \n- bu gün... -> bugün...  \n- http://tatoeba.org/eng/sentences/show/4724353  \n\nTom Mary'in önerisini yapılacaklar listesine not etti.  \n- mary'i... -> mary'yi...  \n- http://tatoeba.org/eng/sentences/show/4728681  \n\nBu günlerde çok dikkatli olamazsın.  \n- bu gün... -> bugün...  \n- http://tatoeba.org/eng/sentences/show/4732193  \n\nBu günlerde gittikçe daha fazla insan sosyal medyada.  \n- bu gün... -> bugün...  \n- http://tatoeba.org/eng/sentences/show/4781975  \n\nSimone Signoret bir Fransız aktristi.  \n- aktrist... -> aktris...  \n- http://tatoeba.org/eng/sentences/show/4791665  \n\nTom John'un bir kaçak olduğunu biliyordu.  \n- bir kaç... -> birkaç...  \n- http://tatoeba.org/eng/sentences/show/4792976  \n\nBu günlerde hiç kimsenin bir sabit hattı yok.  \n- bu gün... -> bugün...  \n- http://tatoeba.org/eng/sentences/show/4874467  \n\nTom bu günlerde ne yapıyor?  \n- bu gün... -> bugün...  \n- http://tatoeba.org/eng/sentences/show/4892285  \n\nBurada değilmişim gibi benim hakkımda konuşma.  \n- değilmi... -> değil mi...  \n- http://tatoeba.org/eng/sentences/show/4907306  \n\nBelki bu günlerden birinde konuşacağız.  \n- bu gün... -> bugün...  \n- http://tatoeba.org/eng/sentences/show/5008145  \n\nBu günlerde hiç kimse dostluk beklemiyor.  \n- bu gün... -> bugün...  \n- http://tatoeba.org/eng/sentences/show/5008278  \n\nBiz neredeyse bir kaçkez yakalandık.  \n- bir kaç... -> birkaç...  \n- http://tatoeba.org/eng/sentences/show/5013562  \n\nBu günlerde ne yapıyorsun?  \n- bu gün... -> bugün...  \n- http://tatoeba.org/eng/sentences/show/5048063  \n\nBu günlerde, bir saat sadece zaman göstermez ama aynı zamanda kişinin sosyal statüsünü de gösterir.  \n- bu gün... -> bugün...  \n- http://tatoeba.org/eng/sentences/show/5081332  \n\nTom orada değilmiş gibi davrandı.  \n- değilmi... -> değil mi...  \n- http://tatoeba.org/eng/sentences/show/5102138  \n\nBu günlerde, neredeyse her arabanın bir küresel konumlama sistemi var.  \n- bu gün... -> bugün...  \n- http://tatoeba.org/eng/sentences/show/5106035  \n\nHiç biran var mı?  \n- hiç bir... -> hiçbir...  \n- http://tatoeba.org/eng/sentences/show/5106301  \n\nHer ustanın kendi metodu vardır.  \n- metod... -> metot...  \n- http://tatoeba.org/eng/sentences/show/5108586  \n\nTom evde hiç birası olmadığı için yemekte bir bardak suyla yetinmek zorunda kaldı.  \n- hiç bir... -> hiçbir...  \n- http://tatoeba.org/eng/sentences/show/5120999  \n\nTom bir kaçağa yardım ve yataklık ediyordu.  \n- bir kaç... -> birkaç...  \n- http://tatoeba.org/eng/sentences/show/5123734  \n\nTom tam bir kaçık.  \n- bir kaç... -> birkaç...  \n- http://tatoeba.org/eng/sentences/show/5131225  \n\nCanım içmek istiyor. Hiç biran var mı?  \n- hiç bir... -> hiçbir...  \n- http://tatoeba.org/eng/sentences/show/5142289  \n\nBu günler, nasıl araba süreceğini bilmek önemlidir.  \n- bu gün... -> bugün...  \n- http://tatoeba.org/eng/sentences/show/5180281  \n\nBu günlerin birinde seni görmeye gelebilir miyim?  \n- bu gün... -> bugün...  \n- http://tatoeba.org/eng/sentences/show/5221931  \n\nBu günler hakkında düşünecek çok şeyim var.  \n- bu gün... -> bugün...  \n- http://tatoeba.org/eng/sentences/show/5229450  \n\nBu günlerde bu sorunları çözmek için yollar vardır.  \n- bu gün... -> bugün...  \n- http://tatoeba.org/eng/sentences/show/5229465  \n\nOnlar o okulda yeni bir İngilizce öğretme metodu benimsedi.  \n- metod... -> metot...  \n- http://tatoeba.org/eng/sentences/show/5239659  \n\nPhilip, Andrew ve Peter gibi, Bethesda kasabasındandı.  \n- ...sda -> ...sta  \n- http://tatoeba.org/eng/sentences/show/5405522  \n\nBu günlerde çocuklara neler oluyor?  \n- bu gün... -> bugün...  \n- http://tatoeba.org/eng/sentences/show/5515338  \n\nBu günü sonsuza dek bekliyorum.  \n- bu gün... -> bugün...  \n- http://tatoeba.org/eng/sentences/show/5552658  \n\nİnsanlar bu günlerde sosyal ağlar hakkında çok şey konuşuyorlar.  \n- bu gün... -> bugün...  \n- http://tatoeba.org/eng/sentences/show/5616168  \n\nFiyatlar bu günlerde yüksek.  \n- bu gün... -> bugün...  \n- http://tatoeba.org/eng/sentences/show/5671539  \n\nBu günler sizin için uygun değilse lütfen bize bildirin.  \n- bu gün... -> bugün...  \n- http://tatoeba.org/eng/sentences/show/5723667  \n\nKardeşim televizyon seyrediyor ve bu günlerde çok çalışmıyor.  \n- bu gün... -> bugün...  \n- http://tatoeba.org/eng/sentences/show/5738769  \n\nHiç birlikte yemek yemedik.  \n- hiç bir... -> hiçbir...  \n- http://tatoeba.org/eng/sentences/show/5788690  \n\nSen ve Tom hiç birlikte şarkı söylediniz mi?  \n- hiç bir... -> hiçbir...  \n- http://tatoeba.org/eng/sentences/show/5846863  \n\nBu günlerde işler oldukça zor.  \n- bu gün... -> bugün...  \n- http://tatoeba.org/eng/sentences/show/5882972  \n\nBu günlerde iyi işler edinmenin çok zor olduğunu unutma.  \n- bu gün... -> bugün...  \n- http://tatoeba.org/eng/sentences/show/5885982  \n\nBu günlerde çok çalışıyor gibi görünüyorsun.  \n- bu gün... -> bugün...  \n- http://tatoeba.org/eng/sentences/show/5952513  \n\nBu günlerde iyi bir iş bulmak zor.  \n- bu gün... -> bugün...  \n- http://tatoeba.org/eng/sentences/show/6027196  \n\nTom'un babası bir kaçakçı.  \n- bir kaç... -> birkaç...  \n- http://tatoeba.org/eng/sentences/show/6091309  \n\nUmarım Tom, Mary'in kendisinden yapmasını istemediği şeyi yapmadı.  \n- mary'i... -> mary'yi...  \n- http://tatoeba.org/eng/sentences/show/6171157  \n\nBu günlerde genç kızların modasına ayak uyduramıyorum.  \n- bu gün... -> bugün...  \n- http://tatoeba.org/eng/sentences/show/6177271  \n\nTom Mary'in ona satın almasını istediği şeyi almayı unuttu.  \n- mary'i... -> mary'yi...  \n- http://tatoeba.org/eng/sentences/show/6202498  \n\nDaha önce Mary'in bu kadar üzgün olduğunu hiç görmedim.  \n- mary'i... -> mary'yi...  \n- http://tatoeba.org/eng/sentences/show/6203365  \n\nTom'a Mary'in bunu yapamayacağını söylemelisin.  \n- mary'i... -> mary'yi...  \n- http://tatoeba.org/eng/sentences/show/6204344  \n\nTom neden Mary'in bunu yapmasını istemiyor?  \n- mary'i... -> mary'yi...  \n- http://tatoeba.org/eng/sentences/show/6207883  \n\nTom bana Mary'in onu yapmadığını söyledi.  \n- mary'i... -> mary'yi...  \n- http://tatoeba.org/eng/sentences/show/6291151  \n\nTom, Mary'in bunu yapması gerekmediğini söyledi.  \n- mary'i... -> mary'yi...  \n- http://tatoeba.org/eng/sentences/show/6300326  \n\nTom, Mary'in bunu yapmasına gerek olmadığını söylüyor.  \n- mary'i... -> mary'yi...  \n- http://tatoeba.org/eng/sentences/show/6302297  \n\nTom, Mary'in John'un yüzdüğünü hiç görmediğini söyledi.  \n- mary'i... -> mary'yi...  \n- http://tatoeba.org/eng/sentences/show/6311331  \n\nTom, Mary'eonun ne yapmasını istediğini söyledi.  \n- mary'e... -> mary'ye...  \n- http://tatoeba.org/eng/sentences/show/6314836  \n\nTom Mary'in 2013'te öldüğünü düşündüğünü söylüyor.  \n- mary'i... -> mary'yi...  \n- http://tatoeba.org/eng/sentences/show/6369161  \n\nTom'un Mary'in bunu yapmadığını bildiğini sanmıyorum.  \n- mary'i... -> mary'yi...  \n- http://tatoeba.org/eng/sentences/show/6378213  \n\nTom, dün Mary'in gitmesi gerektiğini bilmiyordu.  \n- mary'i... -> mary'yi...  \n- http://tatoeba.org/eng/sentences/show/6379815  \n\nTom bana Mary'in otuz yaşında olduğunu düşündüğünü söyledi.  \n- mary'i... -> mary'yi...  \n- http://tatoeba.org/eng/sentences/show/6380434  \n\nTom bana Mary'in evli olmadığını düşündüğünü söyledi.  \n- mary'i... -> mary'yi...  \n- http://tatoeba.org/eng/sentences/show/6384369  \n\nTom'un Mary'in neden bunu yapmadığını Tom'un bildiğini sanmıyorum.  \n- mary'i... -> mary'yi...  \n- http://tatoeba.org/eng/sentences/show/6385414  \n\nTom'un bugün Mary'in neden burada olmadığını bildiğini sanmıyorum.  \n- mary'i... -> mary'yi...  \n- http://tatoeba.org/eng/sentences/show/6391448  \n\nTom gerçekten Mary'in fare yediğini düşünmüyor, değil mi?  \n- mary'i... -> mary'yi...  \n- http://tatoeba.org/eng/sentences/show/6394341  \n\nBu güneş gözlüğü benim.  \n- bu gün... -> bugün...  \n- http://tatoeba.org/eng/sentences/show/6444003  \n\nBu güneş gözlüğü Tom'un.  \n- bu gün... -> bugün...  \n- http://tatoeba.org/eng/sentences/show/6446198  \n\nTom, Mary'in bunu nadiren yaptığını söyledi.  \n- mary'i... -> mary'yi...  \n- http://tatoeba.org/eng/sentences/show/6461716  \n\nTom bana Mary'in pazartesi günü öldüğünü söyledi.  \n- mary'i... -> mary'yi...  \n- http://tatoeba.org/eng/sentences/show/6463535  \n\nTom, Mary'in Pazartesi günü evde olduğunu söyledi.  \n- mary'i... -> mary'yi...  \n- http://tatoeba.org/eng/sentences/show/6470312  \n\nTom, Mary'in neden geç kaldığını bilmediğini söyledi.  \n- mary'i... -> mary'yi...  \n- http://tatoeba.org/eng/sentences/show/6475132  \n\nTom bugün Mary'in okulda olmadığını söyledi.  \n- mary'i... -> mary'yi...  \n- http://tatoeba.org/eng/sentences/show/6475244  \n\nTom gerçekten Mary'in sandviçimi yediğini gördü mü?  \n- mary'i... -> mary'yi...  \n- http://tatoeba.org/eng/sentences/show/6481211  \n\nTom, Mary'in sık sık pazartesi günleri evde kaldığını söyledi.  \n- mary'i... -> mary'yi...  \n- http://tatoeba.org/eng/sentences/show/6488785  \n\nTom kanepede bacak bacak üstüne atmış oturuyordu.  \n- atmış... -> altmış... (çoğu false positive)  \n- http://tatoeba.org/eng/sentences/show/6551738  \n\nBu güneş gözlüğü çok pahalıdır.  \n- bu gün... -> bugün...  \n- http://tatoeba.org/eng/sentences/show/6553313  \n\nBu güneş gözlüğü çok pahalıydı.  \n- bu gün... -> bugün...  \n- http://tatoeba.org/eng/sentences/show/6554983  \n\nTom ve Mary hiç birlikte çalıştı mı?  \n- hiç bir... -> hiçbir...  \n- http://tatoeba.org/eng/sentences/show/6560819  \n\nTom ve Mary hiç birlikte şarkı söylemedi mi?  \n- hiç bir... -> hiçbir...  \n- http://tatoeba.org/eng/sentences/show/6562998  \n\nTom ve Mary hiç birlikte dans etmediler mi?  \n- hiç bir... -> hiçbir...  \n- http://tatoeba.org/eng/sentences/show/6565989  \n\nTom ve Mary'in bunu birlikte yaptıklarını biliyorum.  \n- mary'i... -> mary'yi...  \n- http://tatoeba.org/eng/sentences/show/6569382  \n\nTom ve Mary hiç birlikte yürüyüşe çıktı mı?  \n- hiç bir... -> hiçbir...  \n- http://tatoeba.org/eng/sentences/show/6572488  \n\nTom, Mary'in Pazartesi günü evde olmadığını söyledi.  \n- mary'i... -> mary'yi...  \n- http://tatoeba.org/eng/sentences/show/6574364  \n\nTom neden Mary'in bunu onun için yapmasını istemeli?  \n- mary'i... -> mary'yi...  \n- http://tatoeba.org/eng/sentences/show/6574410  \n\nTom ile Mary'inin birbiriyle çıktığını düşündüm.  \n- mary'i... -> mary'yi...  \n- http://tatoeba.org/eng/sentences/show/6587787  \n\nTom ve Mary hiç birlikte halk arasında şarkı söylemedi.  \n- hiç bir... -> hiçbir...  \n- http://tatoeba.org/eng/sentences/show/6590560  \n\nTom ve Mary hiç birlikte buz pateni yapmaya gitti mi?  \n- hiç bir... -> hiçbir...  \n- http://tatoeba.org/eng/sentences/show/6591418  \n\nTom ve Mary'in bunu birlikte yaptıklarını bilmiyordum.  \n- mary'i... -> mary'yi...  \n- http://tatoeba.org/eng/sentences/show/6592242  \n\nTom ve Mary'nin hiç birlikte dans etmediğini biliyorum.  \n- hiç bir... -> hiçbir...  \n- http://tatoeba.org/eng/sentences/show/6595000  \n\nBu güneş gözlüğü sizin mi?  \n- bu gün... -> bugün...  \n- http://tatoeba.org/eng/sentences/show/6596414  \n\nTom Mary'in bugün bunu yapmak istediğine inanmıyor.  \n- mary'i... -> mary'yi...  \n- http://tatoeba.org/eng/sentences/show/6599728  \n\nTom, Mary'in onun bunu yapamadığından emin olduğunu söyledi.  \n- mary'i... -> mary'yi...  \n- http://tatoeba.org/eng/sentences/show/6600891  \n\nTom, Mary'in bunu yapamadığından emin olduğunu söyledi.  \n- mary'i... -> mary'yi...  \n- http://tatoeba.org/eng/sentences/show/6607058  \n\nBu günlerde meşgul değilim.  \n- bu gün... -> bugün...  \n- http://tatoeba.org/eng/sentences/show/6671201  \n\nTom bu günlerde ne tür iş yapıyor?  \n- bu gün... -> bugün...  \n- http://tatoeba.org/eng/sentences/show/6696224  \n\nBu günlerde nadiren evden ayrılıyorum.  \n- bu gün... -> bugün...  \n- http://tatoeba.org/eng/sentences/show/6700484  \n\nBu güneş gözlükleri sana ait değil, değil mi?  \n- bu gün... -> bugün...  \n- http://tatoeba.org/eng/sentences/show/6931652  \n\nTom hiç Mary'in neye benzediğini sana anlattı mı?  \n- mary'i... -> mary'yi...  \n- http://tatoeba.org/eng/sentences/show/6978989  \n\nBu güneş gözlükleri Tom'a ait.  \n- bu gün... -> bugün...  \n- http://tatoeba.org/eng/sentences/show/6984088  \n\n\n\n***\n \n\n### Likely Error report for user [soliloquist](https://tatoeba.org/eng/user/profile/soliloquist).\n\n\nSanki böyle değilmiş gibi davranmayalım.  \n- değilmi... -> değil mi...  \n- http://tatoeba.org/eng/sentences/show/6846612  \n\nAllah bu günleri aratmasın.  \n- bu gün... -> bugün...  \n- http://tatoeba.org/eng/sentences/show/6990321  \n\nAllah bu günlerimizi aratmasın.  \n- bu gün... -> bugün...  \n- http://tatoeba.org/eng/sentences/show/6990322  \n\nAli kendini yere atmış. Pozisyonun penaltıyla uzaktan yakından alakası yok.  \n- atmış... -> altmış... (çoğu false positive)  \n- http://tatoeba.org/eng/sentences/show/6993723  \n\nHer zaman bir kaçış planın olsun.  \n- bir kaç... -> birkaç...  \n- http://tatoeba.org/eng/sentences/show/7108291  \n\nGolü kim atmış?  \n- atmış... -> altmış... (çoğu false positive)  \n- http://tatoeba.org/eng/sentences/show/7162702  \n\nBu günlerde pek spor yapmıyorum.  \n- bu gün... -> bugün...  \n- http://tatoeba.org/eng/sentences/show/7203504  \n\nBir deli kuyuya taş atmış, kırk akıllı çıkaramamış.  \n- atmış... -> altmış... (çoğu false positive)  \n- http://tatoeba.org/eng/sentences/show/7225036  \n\nEşeğe cilve yap demişler, çifte atmış.  \n- atmış... -> altmış... (çoğu false positive)  \n- http://tatoeba.org/eng/sentences/show/7251343  \n\nBu günlere gelebilmek için yıllarca dirsek çürüttü.  \n- bu gün... -> bugün...  \n- http://tatoeba.org/eng/sentences/show/7254404  \n\nGel, iki lafın belini kıralım.  \n- kıral... -> kral...  \n- http://tatoeba.org/eng/sentences/show/7291080  \n\nKardeş kardeşi atmış, yar başında tutmuş.  \n- atmış... -> altmış... (çoğu false positive)  \n- http://tatoeba.org/eng/sentences/show/7304132  \n\nBu günlerde aranız nasıl?  \n- bu gün... -> bugün...  \n- http://tatoeba.org/eng/sentences/show/7373281  \n\nİlk golü kim atmış?  \n- atmış... -> altmış... (çoğu false positive)  \n- http://tatoeba.org/eng/sentences/show/7591497  \n\nO koltuğun adamı değilmiş.  \n- değilmi... -> değil mi...  \n- http://tatoeba.org/eng/sentences/show/7676561  \n\nTom'un telefonu üstünde değilmiş.  \n- değilmi... -> değil mi...  \n- http://tatoeba.org/eng/sentences/show/7828511  \n\nAli işkembeden atmış.  \n- atmış... -> altmış... (çoğu false positive)  \n- http://tatoeba.org/eng/sentences/show/7893244  \n\nFüze atmışsın resmen.  \n- atmış... -> altmış... (çoğu false positive)  \n- http://tatoeba.org/eng/sentences/show/7898970  \n\nAli kalıbının adamı değilmiş.  \n- değilmi... -> değil mi...  \n- http://tatoeba.org/eng/sentences/show/7924704  \n\nHiçbir şey göründüğü gibi değilmiş.  \n- değilmi... -> değil mi...  \n- http://tatoeba.org/eng/sentences/show/7969065  \n\nTom kendini hiçbir şeyden rahatsız değilmiş gibi göstermeye çalışıyor.  \n- değilmi... -> değil mi...  \n- http://tatoeba.org/eng/sentences/show/7992773  \n\nDuvarın boyası atmıştı.  \n- atmış... -> altmış... (çoğu false positive)  \n- http://tatoeba.org/eng/sentences/show/8191748  \n\nTom sandığım gibi biri değilmiş.  \n- değilmi... -> değil mi...  \n- http://tatoeba.org/eng/sentences/show/8320067  \n\nAli nişanı atmış.  \n- atmış... -> altmış... (çoğu false positive)  \n- http://tatoeba.org/eng/sentences/show/8335204  \n\nAli bol keseden atmış.  \n- atmış... -> altmış... (çoğu false positive)  \n- http://tatoeba.org/eng/sentences/show/8348290  \n\nAli çok yüksekten atmış.  \n- atmış... -> altmış... (çoğu false positive)  \n- http://tatoeba.org/eng/sentences/show/8368896  \n\nAli yeni şarkısında bana taş atmış.  \n- atmış... -> altmış... (çoğu false positive)  \n- http://tatoeba.org/eng/sentences/show/8533814  \n\nAli yine kurusıkı atmış.  \n- atmış... -> altmış... (çoğu false positive)  \n- http://tatoeba.org/eng/sentences/show/8545502  \n\nSen hiç birini tek bir soru sormayacak kadar sevdin mi?  \n- hiç bir... -> hiçbir...  \n- http://tatoeba.org/eng/sentences/show/8583820  \n\nFarketmene sevindim.  \n- farket... -> fark et...  \n- http://tatoeba.org/eng/sentences/show/8655100  \n\nGörevin Tom, tabii eğer kabul edersen, binaya gizlice girip gizli dökümanları elde etmek. Her zamanki gibi, eğer yakalanır ya da öldürülürsen bakanlık senin eylemlerine dair tüm bilgisini reddecektir. Bu mesaj beş saniye içinde kendini imha edecektir. İyi şanslar Tom.  \n- döküman... -> doküman...  \n- http://tatoeba.org/eng/sentences/show/8779043  \n\nBu ders kitabında yeni bir öğretim metodu kullanılıyor.  \n- metod... -> metot...  \n- http://tatoeba.org/eng/sentences/show/8934942  \n\n\n\n***\n \n\n### Likely Error report for user [deyta](https://tatoeba.org/eng/user/profile/deyta).\n\n\nBu günlerde aklımda çok fazla şey var.  \n- bu gün... -> bugün...  \n- http://tatoeba.org/eng/sentences/show/476477  \n\nKilo almak, kişisel gelişimin en kolay metodudur.  \n- metod... -> metot...  \n- http://tatoeba.org/eng/sentences/show/753655  \n\nLise, İngilizce High School'dur.High School ise Türkçe Yüksek Okul'dur.Yüksek Okul Üniversite midir?  \n- yüksek okul... -> yüksekokul...  \n- http://tatoeba.org/eng/sentences/show/2474029  \n\nHiç bir tarlayı bir atla sürdün mü?  \n- hiç bir... -> hiçbir...  \n- http://tatoeba.org/eng/sentences/show/3311548  \n\nBu günlerde ne tür bir spora gidiyorsun?  \n- bu gün... -> bugün...  \n- http://tatoeba.org/eng/sentences/show/3327892  \n\nTom hiç bir sirke gitmedi.  \n- hiç bir... -> hiçbir...  \n- http://tatoeba.org/eng/sentences/show/3366103  \n\nDresden, Elbe'deki Floransa olarak bilinirdi.  \n- ...sden -> ...sten  \n- http://tatoeba.org/eng/sentences/show/3476394  \n\nKathleen bir aktristir.  \n- aktrist... -> aktris...  \n- http://tatoeba.org/eng/sentences/show/3582736  \n\nO bu günlerde anne babasının sözünü dinlemiyor.  \n- bu gün... -> bugün...  \n- http://tatoeba.org/eng/sentences/show/3637984  \n\nTom Alaska'ya taşınana kadar hiç bir geyik görmemişti.  \n- hiç bir... -> hiçbir...  \n- http://tatoeba.org/eng/sentences/show/4018015  \n\nTom bu günlerde çok sıkı çalışıyor.  \n- bu gün... -> bugün...  \n- http://tatoeba.org/eng/sentences/show/4019959  \n\nTom, Mary'in söylediklerini yazdı.  \n- mary'i... -> mary'yi...  \n- http://tatoeba.org/eng/sentences/show/4041299  \n\nBu gün Cuma.  \n- bu gün... -> bugün...  \n- http://tatoeba.org/eng/sentences/show/4045463  \n\nBu günlerde küçük ailelere doğru bir yönelim var.  \n- bu gün... -> bugün...  \n- http://tatoeba.org/eng/sentences/show/4126213  \n\nÖğretmen \"Sınav gelecek hafta bu gün yapılacak\" dedi.  \n- bu gün... -> bugün...  \n- http://tatoeba.org/eng/sentences/show/4246398  \n\nBetin benzin atmış.  \n- atmış... -> altmış... (çoğu false positive)  \n- http://tatoeba.org/eng/sentences/show/4406828  \n\nBir filim var.  \n- filim... -> film...  \n- http://tatoeba.org/eng/sentences/show/4423343  \n\nKim posta yoluyla mektup gönderir ki? Bu günlerde elektronik postamız var.  \n- bu gün... -> bugün...  \n- http://tatoeba.org/eng/sentences/show/4746302  \n\nKim postayla mektup gönderir ki? Bu günlerde e-postamız var.  \n- bu gün... -> bugün...  \n- http://tatoeba.org/eng/sentences/show/4746305  \n\nBen hiç bir oyun yazmadım.  \n- hiç bir... -> hiçbir...  \n- http://tatoeba.org/eng/sentences/show/4749200  \n\nBu gün son derece yorucuydu.  \n- bu gün... -> bugün...  \n- http://tatoeba.org/eng/sentences/show/4755442  \n\nTüm bu benler nereden geliyor?  \n- benle... -> benimle...  \n- http://tatoeba.org/eng/sentences/show/4755518  \n\nO bir aktristi.  \n- aktrist... -> aktris...  \n- http://tatoeba.org/eng/sentences/show/4755639  \n\nBenim filim nerede?  \n- filim... -> film...  \n- http://tatoeba.org/eng/sentences/show/4756473  \n\nSonunda buluştuk! Ben bu gün için çok uzun süre bekledim!  \n- bu gün... -> bugün...  \n- http://tatoeba.org/eng/sentences/show/4764086  \n\nBu günlerde herkes tütünün akciğer kanserine neden olduğunu bilir.  \n- bu gün... -> bugün...  \n- http://tatoeba.org/eng/sentences/show/4775982  \n\nBen bu güneş fırtınasını seviyorum.  \n- bu gün... -> bugün...  \n- http://tatoeba.org/eng/sentences/show/4791124  \n\nSenin çorabında bir kaçık var.  \n- bir kaç... -> birkaç...  \n- http://tatoeba.org/eng/sentences/show/4803476  \n\nBu günlerde ne okuyorsun?  \n- bu gün... -> bugün...  \n- http://tatoeba.org/eng/sentences/show/4804132  \n\nBu güncelleştirme bu sabah saat 10'da yayınlanacak.  \n- bu gün... -> bugün...  \n- http://tatoeba.org/eng/sentences/show/4806039  \n\nVe bu günlerde kimin için çalışıyorsun?  \n- bu gün... -> bugün...  \n- http://tatoeba.org/eng/sentences/show/4820451  \n\nBen bir kaçık değilim.  \n- bir kaç... -> birkaç...  \n- http://tatoeba.org/eng/sentences/show/4846538  \n\nYalnızca ben burada değilmişim gibi davran.  \n- değilmi... -> değil mi...  \n- http://tatoeba.org/eng/sentences/show/4855672  \n\nCan kurtaranlar artık görevdeler.  \n- can kurtaran... -> cankurtaran...  \n- http://tatoeba.org/eng/sentences/show/4865351  \n\nSen böyle bir iki yüzlüsün.  \n- iki yüzlü... -> ikiyüzlü...  \n- http://tatoeba.org/eng/sentences/show/4945956  \n\nTom bu günlerde nasıl?  \n- bu gün... -> bugün...  \n- http://tatoeba.org/eng/sentences/show/5064615  \n\nMüslüman anarşistler yine sağa sola bomba atmışlar.  \n- atmış... -> altmış... (çoğu false positive)  \n- http://tatoeba.org/eng/sentences/show/5241951  \n\nBu günlerde nerede yaşıyorsun?  \n- bu gün... -> bugün...  \n- http://tatoeba.org/eng/sentences/show/5243027  \n\nDaha önce gün ortasında hiç bira içmedim.  \n- hiç bir... -> hiçbir...  \n- http://tatoeba.org/eng/sentences/show/5247910  \n\nPolis Dan'i hapse atmıştı.  \n- atmış... -> altmış... (çoğu false positive)  \n- http://tatoeba.org/eng/sentences/show/5265375  \n\nFDA yeni ilacı onayladı.  \n- ...fda -> ...fta  \n- http://tatoeba.org/eng/sentences/show/5269710  \n\nOnun metodolojisi çok amatörce.  \n- metod... -> metot...  \n- http://tatoeba.org/eng/sentences/show/5297438  \n\nHiç bir Dvorak klavye kullandınız mı?  \n- hiç bir... -> hiçbir...  \n- http://tatoeba.org/eng/sentences/show/5305565  \n\nMürettebat bir kaçak yolcu buldular.  \n- bir kaç... -> birkaç...  \n- http://tatoeba.org/eng/sentences/show/5307814  \n\nHiç bir kılıç kırlangıcı gördünüz mü?  \n- hiç bir... -> hiçbir...  \n- http://tatoeba.org/eng/sentences/show/5316577  \n\nBu günlerde orada Çekicilik Kanunu hakkında birçok konuşma var ama ben böyle bir şeyin var olduğunu sanmıyorum.  \n- bu gün... -> bugün...  \n- http://tatoeba.org/eng/sentences/show/5322462  \n\nBu günlerde insanlar burayı ziyaret ediyorlar.  \n- bu gün... -> bugün...  \n- http://tatoeba.org/eng/sentences/show/5328387  \n\nBu günlerde birçok insan bilgisayar kullanır.  \n- bu gün... -> bugün...  \n- http://tatoeba.org/eng/sentences/show/5328389  \n\nBiz bu gün atalarımızın mezarlarını ziyaret ediyoruz.  \n- bu gün... -> bugün...  \n- http://tatoeba.org/eng/sentences/show/5335690  \n\nYunan mitolojisi hakkında bir çoksatarım var.  \n- bir çok... -> birçok...  \n- http://tatoeba.org/eng/sentences/show/5385712  \n\nSen hiç bir penis emdin mi?  \n- hiç bir... -> hiçbir...  \n- http://tatoeba.org/eng/sentences/show/5442281  \n\nBen bir Çoktavım.  \n- bir çok... -> birçok...  \n- http://tatoeba.org/eng/sentences/show/5442338  \n\nSen bir Çoktav mısın?  \n- bir çok... -> birçok...  \n- http://tatoeba.org/eng/sentences/show/5442339  \n\nBu günlerden birinde beni ara.  \n- bu gün... -> bugün...  \n- http://tatoeba.org/eng/sentences/show/5462743  \n\nMary can kurtaranlardan biriyle çıkıyor.  \n- can kurtaran... -> cankurtaran...  \n- http://tatoeba.org/eng/sentences/show/5482056  \n\nMary can kurtaranlardan biriyle flört ediyor.  \n- can kurtaran... -> cankurtaran...  \n- http://tatoeba.org/eng/sentences/show/5482057  \n\nTom bir gemide bir kaçak yolcu olarak Amerika'ya geldi.  \n- bir kaç... -> birkaç...  \n- http://tatoeba.org/eng/sentences/show/5520873  \n\nO kaba, tembel bir kaçaktır.  \n- bir kaç... -> birkaç...  \n- http://tatoeba.org/eng/sentences/show/5543181  \n\nÇocukken, Mary özellikle palyaçolar ve maymunlardan nefret ediyordu. Bu güne gelince, gerçekten, bu ,bir parça bile değişmedi.  \n- bu gün... -> bugün...  \n- http://tatoeba.org/eng/sentences/show/5543976  \n\nDresden, 1945'te bombalandı.  \n- ...sden -> ...sten  \n- http://tatoeba.org/eng/sentences/show/5550080  \n\nTom tam bir kaçıktır.  \n- bir kaç... -> birkaç...  \n- http://tatoeba.org/eng/sentences/show/5614910  \n\nBu günlerde çoğu insan dostluğu anlamıyor.  \n- bu gün... -> bugün...  \n- http://tatoeba.org/eng/sentences/show/5675533  \n\nSen ve Tom hiç birlikte dans etmediniz mi?  \n- hiç bir... -> hiçbir...  \n- http://tatoeba.org/eng/sentences/show/5805999  \n\nÇocukluğumda sınıf arkadaşlarım ve ben oynamak için bütün bilyeleri okula götürürdük. Bu günlerde çoğu çocuğun akıllı telefonları ve iPod'ları var.  \n- bu gün... -> bugün...  \n- http://tatoeba.org/eng/sentences/show/5821947  \n\nBen bir kaçağım.  \n- bir kaç... -> birkaç...  \n- http://tatoeba.org/eng/sentences/show/5863775  \n\nTom hayatında hiç bir hikaye anlatmadı.  \n- hiç bir... -> hiçbir...  \n- http://tatoeba.org/eng/sentences/show/5864299  \n\nTom geçen sene büyük annesi ile yaşamak için Boston'a gitti.  \n- büyük anne... -> büyükanne...  \n- http://tatoeba.org/eng/sentences/show/5870458  \n\nTom ve Mary hiç birlikte tenis oynamadılar.  \n- hiç bir... -> hiçbir...  \n- http://tatoeba.org/eng/sentences/show/5878020  \n\nFadıl'ın aç gözlü bir kız arkadaşı vardı.  \n- aç gözlü... -> açgözlü...  \n- http://tatoeba.org/eng/sentences/show/5880307  \n\nLeyla bir kaçak değildir.  \n- bir kaç... -> birkaç...  \n- http://tatoeba.org/eng/sentences/show/5880694  \n\nBu günlerde her şey nasıl?  \n- bu gün... -> bugün...  \n- http://tatoeba.org/eng/sentences/show/5940534  \n\nHiç bir gemide bulunmadım.  \n- hiç bir... -> hiçbir...  \n- http://tatoeba.org/eng/sentences/show/5955400  \n\nBen hiç bir havuzda yüzmedim.  \n- hiç bir... -> hiçbir...  \n- http://tatoeba.org/eng/sentences/show/5955458  \n\nÇalışmanın metodolojisi sağlamdı.  \n- metod... -> metot...  \n- http://tatoeba.org/eng/sentences/show/6013874  \n\nTom Metodisttir ama Mary Katoliktir.  \n- metod... -> metot...  \n- http://tatoeba.org/eng/sentences/show/6037135  \n\nO yapıcı değilmiş gibi konuş.  \n- değilmi... -> değil mi...  \n- http://tatoeba.org/eng/sentences/show/6039925  \n\nBu gün için çok uzun süredir bekliyorum.  \n- bu gün... -> bugün...  \n- http://tatoeba.org/eng/sentences/show/6042094  \n\nBu bir çok terimli mi?  \n- bir çok... -> birçok...  \n- http://tatoeba.org/eng/sentences/show/6064065  \n\nLeyla'nın babası bir kaçakçıdır.  \n- bir kaç... -> birkaç...  \n- http://tatoeba.org/eng/sentences/show/6068695  \n\nSiz hiç birbirinizle konuşmuyor musunuz?  \n- hiç bir... -> hiçbir...  \n- http://tatoeba.org/eng/sentences/show/6068926  \n\nLeyla'nın büyükanne ve büyük babaları bir mil uzakta yaşıyordu.  \n- büyük baba... -> büyükbaba...  \n- http://tatoeba.org/eng/sentences/show/6107032  \n\nSami ve Leyla bir kaçırma planlıyorlardı.  \n- bir kaç... -> birkaç...  \n- http://tatoeba.org/eng/sentences/show/6129551  \n\nSami bir kaçırmayı planlamak için Leyla ile buluştu.  \n- bir kaç... -> birkaç...  \n- http://tatoeba.org/eng/sentences/show/6129930  \n\nHiç bir adada yaşamak istedin mi?  \n- hiç bir... -> hiçbir...  \n- http://tatoeba.org/eng/sentences/show/6130381  \n\nTom, Mary'lerde.  \n- mary'le... -> mary'yle...  \n- http://tatoeba.org/eng/sentences/show/6734013  \n\nSami bir kaçaktır.  \n- bir kaç... -> birkaç...  \n- http://tatoeba.org/eng/sentences/show/6739031  \n\nBu güneş gözlüğü Tom'a ait.  \n- bu gün... -> bugün...  \n- http://tatoeba.org/eng/sentences/show/6783333  \n\nTom bir kaçak avcıdır.  \n- bir kaç... -> birkaç...  \n- http://tatoeba.org/eng/sentences/show/6812002  \n\nBu güneş gözlüğü Tom'un mu?  \n- bu gün... -> bugün...  \n- http://tatoeba.org/eng/sentences/show/6844307  \n\n\n\n***\n \n\n### Likely Error report for user [maydoo](https://tatoeba.org/eng/user/profile/maydoo).\n\n\nO hiç bir erkekle sevişti mi?  \n- hiç bir... -> hiçbir...  \n- http://tatoeba.org/eng/sentences/show/3249796  \n\nTom'a bir kısa mesaj atmıştım.  \n- atmış... -> altmış... (çoğu false positive)  \n- http://tatoeba.org/eng/sentences/show/3554875  \n\nTom Mary'in ulaşmasını bekliyor.  \n- mary'i... -> mary'yi...  \n- http://tatoeba.org/eng/sentences/show/3554905  \n\nBu güneş gözlükleri çok büyük.  \n- bu gün... -> bugün...  \n- http://tatoeba.org/eng/sentences/show/3557755  \n\nHiç bir damla alkol almadım.  \n- hiç bir... -> hiçbir...  \n- http://tatoeba.org/eng/sentences/show/3741017  \n\nDoktor, hastasına bir iyi ve bir kötü haberi olduğunu söyler: \"Kötü haber artık bu günden sonra yaşamayacaksınız. Ve işte iyi haber, bunu size dün söylemeyi unuttum.\"  \n- bu gün... -> bugün...  \n- http://tatoeba.org/eng/sentences/show/3778314  \n\nBu günü hep bekliyordum.  \n- bu gün... -> bugün...  \n- http://tatoeba.org/eng/sentences/show/3798709  \n\nDünden beri bilgisayarım bir kaçık gibi.  \n- bir kaç... -> birkaç...  \n- http://tatoeba.org/eng/sentences/show/3887746  \n\nBu günün olacağını biliyordum.  \n- bu gün... -> bugün...  \n- http://tatoeba.org/eng/sentences/show/4280034  \n\nBu günün geleceğini biliyordum.  \n- bu gün... -> bugün...  \n- http://tatoeba.org/eng/sentences/show/4280073  \n\nJaponya'da birsürü aktif volkan var.  \n- birsürü... -> bir sürü...  \n- http://tatoeba.org/eng/sentences/show/4416148  \n\nFransızca öğrenmeye başlamak istiyorum bana bir öğrenme metodu tavsiye eder misin?  \n- metod... -> metot...  \n- http://tatoeba.org/eng/sentences/show/4536328  \n\nBenim gibi bir kaçığı sevdiğin için teşekkürler.  \n- bir kaç... -> birkaç...  \n- http://tatoeba.org/eng/sentences/show/4642234  \n\nArapça yazamam. Arapca bir klavyem yok.  \n- ...pca -> ...pça  \n- http://tatoeba.org/eng/sentences/show/4648802  \n\nDışarıda birsürü insan var.  \n- birsürü... -> bir sürü...  \n- http://tatoeba.org/eng/sentences/show/4733699  \n\nBirsürü insan Tokyo'da yaşıyor.  \n- birsürü... -> bir sürü...  \n- http://tatoeba.org/eng/sentences/show/4827304  \n\nBunun hakkında fikri olmayan birsürü insan var.  \n- birsürü... -> bir sürü...  \n- http://tatoeba.org/eng/sentences/show/4989617  \n\n\n\n***\n \n\n### Likely Error report for user [Gulo_Luscus](https://tatoeba.org/eng/user/profile/Gulo_Luscus).\n\n\nTürkçe Ğ ve İspanyolca H kaçtı ve birlikte birsürü tamamen sessiz çocukları oldu.  \n- birsürü... -> bir sürü...  \n- http://tatoeba.org/eng/sentences/show/1071227  \n\nİlk önce öğretmen olduğunu sanmıştım ama değilmiş.  \n- değilmi... -> değil mi...  \n- http://tatoeba.org/eng/sentences/show/2306923  \n\nTom, Mary'in küçük göğüsleri olmasına aldırış etmedi.  \n- mary'i... -> mary'yi...  \n- http://tatoeba.org/eng/sentences/show/2318078  \n\n\n\n***\n \n\n### Likely Error report for user [freefighter](https://tatoeba.org/eng/user/profile/freefighter).\n\n\nBu günlerde hava beş buçuk gibi kararıyor.  \n- bu gün... -> bugün...  \n- http://tatoeba.org/eng/sentences/show/1616987  \n\nBu günlük bu kadar yeter. Çok yorgunum.  \n- bu gün... -> bugün...  \n- http://tatoeba.org/eng/sentences/show/1702135  \n\nBüyük annem ve büyük babam için kaygılanıyoruz.  \n- büyük anne... -> büyükanne...  \n- http://tatoeba.org/eng/sentences/show/1704831  \n\nBüyük annem ve büyük babam için kaygılanıyoruz.  \n- büyük baba... -> büyükbaba...  \n- http://tatoeba.org/eng/sentences/show/1704831  \n\nBüyük babam bu sene yetmişine girecek.  \n- büyük baba... -> büyükbaba...  \n- http://tatoeba.org/eng/sentences/show/1707853  \n\nBeyaz elbiseli kadın, ünlü bir aktristir.  \n- aktrist... -> aktris...  \n- http://tatoeba.org/eng/sentences/show/1928397  \n\nBu günün gelmesini bekliyordum.  \n- bu gün... -> bugün...  \n- http://tatoeba.org/eng/sentences/show/2126962  \n\nHiç biran yok mu?  \n- hiç bir... -> hiçbir...  \n- http://tatoeba.org/eng/sentences/show/2731988  \n\nHiç biranız yok mu?  \n- hiç bir... -> hiçbir...  \n- http://tatoeba.org/eng/sentences/show/2731989  \n\n\n\n***\n \n\n### Likely Error report for user [yavuz](https://tatoeba.org/eng/user/profile/yavuz).\n\n\nBeni bu güne getiren amcamdır.  \n- bu gün... -> bugün...  \n- http://tatoeba.org/eng/sentences/show/3429562  \n\nHiç bir yerini kırdın mı?  \n- hiç bir... -> hiçbir...  \n- http://tatoeba.org/eng/sentences/show/3450876  \n\n\n\n***\n \n\n### Likely Error report for user [ajje](https://tatoeba.org/eng/user/profile/ajje).\n\n\nHiç bir kimse senin eline su dökemez.  \n- hiç bir... -> hiçbir...  \n- http://tatoeba.org/eng/sentences/show/8128103  \n\n\n\n***\n \n\n### Likely Error report for user [AKINCI81](https://tatoeba.org/eng/user/profile/AKINCI81).\n\n\nSebastian'ın büyük annesi Navarra'da hakimlik görevini üstlenen ilk kadındı.  \n- büyük anne... -> büyükanne...  \n- http://tatoeba.org/eng/sentences/show/2572484  \n\n\n\n***\n \n\n### Likely Error report for user [diviner](https://tatoeba.org/eng/user/profile/diviner).\n\n\nMantık, yanlış sonuca inançla ulaşmanın sistematik bir metodudur.  \n- metod... -> metot...  \n- http://tatoeba.org/eng/sentences/show/1144569  \n\n\n\n***\n \n\n### Likely Error report for user [User20656](https://tatoeba.org/eng/user/profile/User20656).\n\n\nBüyük babam okumaktan hoşlanırdı.  \n- büyük baba... -> büyükbaba...  \n- http://tatoeba.org/eng/sentences/show/2636375  \n\nBu günlerde meşgul müsün?  \n- bu gün... -> bugün...  \n- http://tatoeba.org/eng/sentences/show/2755474  \n\nBugün hava harika fakat bu günlerde hep yağmur yağdı.  \n- bu gün... -> bugün...  \n- http://tatoeba.org/eng/sentences/show/2839239  \n\nHiç bir karavan sürdün mü?  \n- hiç bir... -> hiçbir...  \n- http://tatoeba.org/eng/sentences/show/3626519  \n\n\n\n***\n \n\n### Likely Error report for user [aydink](https://tatoeba.org/eng/user/profile/aydink).\n\n\nTom, Mary'nin hiçbir şey yanlış değilmiş gibi davranmasına inanamıyor.  \n- değilmi... -> değil mi...  \n- http://tatoeba.org/eng/sentences/show/2038116  \n\n\n\n***\n \n\n### Likely Error report for user [murtaza](https://tatoeba.org/eng/user/profile/murtaza).\n\n\nHiç bir polis memuruna küfür ettin mi?  \n- hiç bir... -> hiçbir...  \n- http://tatoeba.org/eng/sentences/show/2161334  \n\n\n\n***\n \n\n### Likely Error report for user [marllboro06](https://tatoeba.org/eng/user/profile/marllboro06).\n\n\nTom sevgilisi Mary'in yokluğundan dolayı acı çekiyor.  \n- mary'i... -> mary'yi...  \n- http://tatoeba.org/eng/sentences/show/4748451  \n\n\n\n***\n \n\n### Likely Error report for user [teosos](https://tatoeba.org/eng/user/profile/teosos).\n\n\nTicaret yüksek okuluna gittim.  \n- yüksek okul... -> yüksekokul...  \n- http://tatoeba.org/eng/sentences/show/2207472  \n\n\n\n***\n \n\n### Likely Error report for user [orko](https://tatoeba.org/eng/user/profile/orko).\n\n\nOğlun şimdiye kadar bayağı boy atmış olmalı.  \n- atmış... -> altmış... (çoğu false positive)  \n- http://tatoeba.org/eng/sentences/show/2527842  \n\n\n\n***\n \n\n### Likely Error report for user [meinung44](https://tatoeba.org/eng/user/profile/meinung44).\n\n\nBu günün hayalini kurdum.  \n- bu gün... -> bugün...  \n- http://tatoeba.org/eng/sentences/show/2578092  \n\n\n\n***\n \n\n### Likely Error report for user [evka](https://tatoeba.org/eng/user/profile/evka).\n\n\nBu gün bana hiç email gelmedi.  \n- bu gün... -> bugün...  \n- http://tatoeba.org/eng/sentences/show/6998912  \n\n\n\n***\n \n\n### Likely Error report for user [sumeyye](https://tatoeba.org/eng/user/profile/sumeyye).\n\n\nHiç bir araba sattın mı?  \n- hiç bir... -> hiçbir...  \n- http://tatoeba.org/eng/sentences/show/2638447  \n\n\n\n***\n \n\n### Likely Error report for user [Themis06](https://tatoeba.org/eng/user/profile/Themis06).\n\n\n\"Arayan Tom muydu yine?\" \"Evet. Bu günlerde her akşam arıyor. Ona numaramı vermemeliydim.\"  \n- bu gün... -> bugün...  \n- http://tatoeba.org/eng/sentences/show/3055609  \n\n\n\n***\n \n\n### Likely Error report for user [jorro](https://tatoeba.org/eng/user/profile/jorro).\n\n\nTom Mary'in dövme yaptırmasını istemedi.  \n- mary'i... -> mary'yi...  \n- http://tatoeba.org/eng/sentences/show/3399119  \n\n\n\n***\n \n\n### Likely Error report for user [vvv123](https://tatoeba.org/eng/user/profile/vvv123).\n\n\nO günkü Türkiye ile bu günkü arasında dağlar kadar fark var.  \n- bu gün... -> bugün...  \n- http://tatoeba.org/eng/sentences/show/3583690  \n\nHiç birini öldürdün mü?  \n- hiç bir... -> hiçbir...  \n- http://tatoeba.org/eng/sentences/show/3645108  \n\nBu günde konuşmakta zorluk çektim.  \n- bu gün... -> bugün...  \n- http://tatoeba.org/eng/sentences/show/3647502  \n\nSadece bu günün geçmesini istiyorum.  \n- bu gün... -> bugün...  \n- http://tatoeba.org/eng/sentences/show/3648513  \n\nBu gün pazardır.  \n- bu gün... -> bugün...  \n- http://tatoeba.org/eng/sentences/show/3659089  \n\nVerimsiz okul yoktur, verimsiz metodlarla çalışan eğitimciler vardır.  \n- metod... -> metot...  \n- http://tatoeba.org/eng/sentences/show/3665880  \n\nBu günü asla unutmayacağım.  \n- bu gün... -> bugün...  \n- http://tatoeba.org/eng/sentences/show/3704486  \n\nÖlürsem, yatağında huzur içinde ölen büyük babam gibi ölmek isterim. Arabasındaki tüm yolcular gibi çığlık atarak değil.  \n- büyük baba... -> büyükbaba...  \n- http://tatoeba.org/eng/sentences/show/3750658  \n\nAvukat değilmişsin gibi konuşma.  \n- değilmi... -> değil mi...  \n- http://tatoeba.org/eng/sentences/show/4043843  \n\n\n\n***\n \n\n### Likely Error report for user [Miremir](https://tatoeba.org/eng/user/profile/Miremir).\n\n\n\"Bu güneş gözlüğü kimin?\" \"O Nabil'in\"  \n- bu gün... -> bugün...  \n- http://tatoeba.org/eng/sentences/show/4149754  \n\n\n\n***\n \n\n### Likely Error report for user [elifcakir](https://tatoeba.org/eng/user/profile/elifcakir).\n\n\nMetodlarının modası geçmiş.  \n- metod... -> metot...  \n- http://tatoeba.org/eng/sentences/show/3701694  \n\nMetodların çok eski moda.  \n- metod... -> metot...  \n- http://tatoeba.org/eng/sentences/show/3701695  \n\nMetodların artık geçerli değil.  \n- metod... -> metot...  \n- http://tatoeba.org/eng/sentences/show/3701698  \n\nBöyle bir metodun modası geçti.  \n- metod... -> metot...  \n- http://tatoeba.org/eng/sentences/show/3701716  \n\n\n\n***\n \n\n### Likely Error report for user [tornado](https://tatoeba.org/eng/user/profile/tornado).\n\n\nKısmet değilmiş.  \n- değilmi... -> değil mi...  \n- http://tatoeba.org/eng/sentences/show/4144716  \n\nMeryem, Tom'un cep telefonunu kazara çamaşır makinesine atmış.  \n- atmış... -> altmış... (çoğu false positive)  \n- http://tatoeba.org/eng/sentences/show/4483777  \n\nTesbih bir yerinden koparsa tüm taneleri dökülür.  \n- tesbih... -> tespih...  \n- http://tatoeba.org/eng/sentences/show/4579168  \n\n\n\n***\n \n\n### Likely Error report for user [cadininbiri](https://tatoeba.org/eng/user/profile/cadininbiri).\n\n\nTom Mary'in parolasını rahatça tahmin etti.  \n- mary'i... -> mary'yi...  \n- http://tatoeba.org/eng/sentences/show/3754817  \n\n\n\n***\n \n\n### Likely Error report for user [AqQoyriq_1](https://tatoeba.org/eng/user/profile/AqQoyriq_1).\n\n\nSabır acıdır, meyvası tatlıdır.  \n- meyva... -> meyve...  \n- http://tatoeba.org/eng/sentences/show/4272030  \n\n\n\n***\n \n\n### Likely Error report for user [bkay](https://tatoeba.org/eng/user/profile/bkay).\n\n\nEğer bu metodu kullanırsan, bavula daha fazla şey koyabilirsin.  \n- metod... -> metot...  \n- http://tatoeba.org/eng/sentences/show/4168259  \n\n\n\n***\n \n\n### Likely Error report for user [Y4K4M0Z](https://tatoeba.org/eng/user/profile/Y4K4M0Z).\n\n\nFilimi nereye park edebilirim?  \n- filim... -> film...  \n- http://tatoeba.org/eng/sentences/show/4478787  \n\nSen iki yüzlüsün ve bu problem.  \n- iki yüzlü... -> ikiyüzlü...  \n- http://tatoeba.org/eng/sentences/show/4484913  \n\n\n\n***\n \n\n### Likely Error report for user [violetanka](https://tatoeba.org/eng/user/profile/violetanka).\n\n\nJerry'nin iki yüzlü olduğunu düşünüyorum.  \n- iki yüzlü... -> ikiyüzlü...  \n- http://tatoeba.org/eng/sentences/show/4621224  \n\n\n\n***\n \n\n### Likely Error report for user [ruth_tatoeba](https://tatoeba.org/eng/user/profile/ruth_tatoeba).\n\n\nGözlerim bilgisayardan dört köşe oldu. Bu günlük bu kadar yeter, millet, iyi geceler.  \n- bu gün... -> bugün...  \n- http://tatoeba.org/eng/sentences/show/6401287  \n\nBunu benleyin!  \n- benle... -> benimle...  \n- http://tatoeba.org/eng/sentences/show/6738766  \n\nBu gün bana gelmen beni mutlu ediyor.  \n- bu gün... -> bugün...  \n- http://tatoeba.org/eng/sentences/show/6776854  \n\nDostluk herkes için aynı anlama sahip değilmiş gibi görünüyor.  \n- değilmi... -> değil mi...  \n- http://tatoeba.org/eng/sentences/show/7319230  \n\n\n\n***\n \n\n### Likely Error report for user [tnnglue](https://tatoeba.org/eng/user/profile/tnnglue).\n\n\nHiç bir kadınla beraber yatmadın mı?  \n- hiç bir... -> hiçbir...  \n- http://tatoeba.org/eng/sentences/show/4547606  \n\nHiç bir kadınla beraber olmadın mı?  \n- hiç bir... -> hiçbir...  \n- http://tatoeba.org/eng/sentences/show/4547609  \n\nHiç bir kadınla sevişmedin mi?  \n- hiç bir... -> hiçbir...  \n- http://tatoeba.org/eng/sentences/show/4547612  \n\n\n\n***\n \n\n### Likely Error report for user [dursun](https://tatoeba.org/eng/user/profile/dursun).\n\n\nTom'un Marry'yi beklemekten rahatsız olmayacağını sanıyordum.  \n- marry... -> mary...  \n- http://tatoeba.org/eng/sentences/show/4850855  \n\n\n\n***\n \n\n### Likely Error report for user [odien16](https://tatoeba.org/eng/user/profile/odien16).\n\n\nBizde onlardan birsürü var.  \n- birsürü... -> bir sürü...  \n- http://tatoeba.org/eng/sentences/show/4968311  \n\n\n\n***\n \n\n### Likely Error report for user [ytugen](https://tatoeba.org/eng/user/profile/ytugen).\n\n\nÜnvanlar gelip geçicidir, baki olan isimlerdir.  \n- ünvan... -> unvan...  \n- http://tatoeba.org/eng/sentences/show/8531082  \n\n\n\n***\n \n\n### Likely Error report for user [maqnus](https://tatoeba.org/eng/user/profile/maqnus).\n\n\nDoğal olarak hiç bir dil diğerinden üstün değildir.  \n- hiç bir... -> hiçbir...  \n- http://tatoeba.org/eng/sentences/show/5927423  \n\n\n\n***\n \n\n### Likely Error report for user [cengistan](https://tatoeba.org/eng/user/profile/cengistan).\n\n\nHiç bir yere gitmeyen, hiçbir yere de ulaşamaz.  \n- hiç bir... -> hiçbir...  \n- http://tatoeba.org/eng/sentences/show/5190857  \n\n\n\n***\n \n\n### Likely Error report for user [rubinrot](https://tatoeba.org/eng/user/profile/rubinrot).\n\n\nAfedersiniz! En yakın istasyona nasıl gidebilirim acaba?  \n- afedersin... -> affedersin...  \n- http://tatoeba.org/eng/sentences/show/6149990  \n\n\n\n***\n \n\n### Likely Error report for user [MostAssertive](https://tatoeba.org/eng/user/profile/MostAssertive).\n\n\nBu günlerde kaybolmuş gençliğimize hasretli bir şekilde geri dönüp bakıyoruz.  \n- bu gün... -> bugün...  \n- http://tatoeba.org/eng/sentences/show/6135819  \n\n\n\n***\n \n\n### Likely Error report for user [dvdemirel](https://tatoeba.org/eng/user/profile/dvdemirel).\n\n\nKendimi bir çok şeyden mahrum bırakıyorum ama Tom'a her zaman en iyisini alıyorum.  \n- bir çok... -> birçok...  \n- http://tatoeba.org/eng/sentences/show/8589830  \n\nTom'un bunu yapmasına müsade edeceğimi sanmıyorum.  \n- müsade... -> müsaade...  \n- http://tatoeba.org/eng/sentences/show/8591051  \n\n\n\n***\n \n\n### Likely Error report for user [ATES](https://tatoeba.org/eng/user/profile/ATES).\n\n\nBir dokunuş başlatıldığında ilk önce bu metodlar çağrılır.  \n- metod... -> metot...  \n- http://tatoeba.org/eng/sentences/show/8835363  \n\n\n\n***\n \n\n### Likely Error report for user [Bitirim](https://tatoeba.org/eng/user/profile/Bitirim).\n\n\nAli resmen füze atmış.  \n- atmış... -> altmış... (çoğu false positive)  \n- http://tatoeba.org/eng/sentences/show/8453780  \n\nAli yeni şarkısında bana diss atmış.  \n- atmış... -> altmış... (çoğu false positive)  \n- http://tatoeba.org/eng/sentences/show/8453821  \n\nKadınlar kıtalara benzer. 20 yaşındaki kadın Afrika gibidir, bir çok yeri hâlâ keşfedilmemiştir. 30 yaşındaki kadın Asya gibidir; sıcak, esrarengiz ve bereketli. 40 yaşındaki kadın Amerika gibidir; teknik açıdan mükemmel. 50 yaşındaki kadın harp sonrası Avrupa gibidir, bir çok yeri tahrip edilmiştir. 60'ından sonra kadın Antarktika gibidir; bilirsin, ama gitmezsin.  \n- bir çok... -> birçok...  \n- http://tatoeba.org/eng/sentences/show/8775265  \n\nYerle bir oldum da senle bir olamadım.  \n- senle... -> seninle...  \n- http://tatoeba.org/eng/sentences/show/8970882  \n\nDünyadaki en büyük adaletsizlik, senin cok istediğin bir şeye başkasının hiçbir çaba sarfetmeden ulaşabiliyor olmasıdır.  \n- sarfet... -> sarf et...  \n- http://tatoeba.org/eng/sentences/show/9331886  \n\n\n\n***\n \n\n### Likely Error report for user [MostAssertive1](https://tatoeba.org/eng/user/profile/MostAssertive1).\n\n\n\"Virginia, bir kadın kocasından sır saklamamalı.\" \"Öyle mi? Ama benden sır saklıyorsun, değil mi? Yoksa senle Mary'den haberim yok mu sanıyordun?\" \"Ama Virginia!\" \"Aması falan yok! Derhal evimi terk et ve Mary'yi maçoluğunla tavlamaya devam et, seni adi herif!\"  \n- senle... -> seninle...  \n- http://tatoeba.org/eng/sentences/show/9027949  \n\n\n\n***\n \n\n### Likely Error report for user [SadeceTurkce](https://tatoeba.org/eng/user/profile/SadeceTurkce).\n\n\nSami tesbihinin boncuklarıyla oynuyordu.  \n- tesbih... -> tespih...  \n- http://tatoeba.org/eng/sentences/show/7407888  \n\n\n\n***\n \n\n### Likely Error report for user [NUTUK](https://tatoeba.org/eng/user/profile/NUTUK).\n\n\nYunanlıların İzmir'e gireceğinin açık belirtilerini Mayısın on üçünden beri gören, İzmir'de birtakım genç yurtseverler, ayın 14/15'inci gecesi, bu acıklı durumu aralarında görüşmüşler; bir olupbittiye geldiği kuşku götürmeyen bu girişin, ilhak ile sonuçlanmasını önlemek düşüncesinde birleşmişler ve ilhakı önleme ilkesini ortaya atmışlardır.  \n- atmış... -> altmış... (çoğu false positive)  \n- http://tatoeba.org/eng/sentences/show/7765699  \n\n\n\n***\n \n\n### Likely Error report for user [whitekite](https://tatoeba.org/eng/user/profile/whitekite).\n\n\nTom Mary'e ne tür bir arabası olduğunu sordu.  \n- mary'e... -> mary'ye...  \n- http://tatoeba.org/eng/sentences/show/8988359  \n\nTom Mary'nin ona dik dik baktığını farketti.  \n- farket... -> fark et...  \n- http://tatoeba.org/eng/sentences/show/9020674  \n\nTom Mary'e kendisi için bir sandviç yapması gerektiğini söyledi.  \n- mary'e... -> mary'ye...  \n- http://tatoeba.org/eng/sentences/show/9020685  \n\n\n\n***\n \n\n### Likely Error report for user [Jum](https://tatoeba.org/eng/user/profile/Jum).\n\n\nHellowine ýakynlaşýarys we bu gün Hellowin hakynda seniň bilen gürleşip biljegimi pikir etdim.  \n- bu gün... -> bugün...  \n- http://tatoeba.org/eng/sentences/show/7931713  \n\n\n\n***\n \n\n### Likely Error report for user [Oldboy](https://tatoeba.org/eng/user/profile/Oldboy).\n\n\nMalesef, cevap basit değil.  \n- malesef... -> maalesef...  \n- http://tatoeba.org/eng/sentences/show/8468916  \n\n\n\n***\n \n\n### Likely Error report for user [nedim](https://tatoeba.org/eng/user/profile/nedim).\n\n\nNe derlerse desinler halen haftaya Avusturalya'ya gitmeyi planlıyorum.  \n- avusturalya... -> avustralya...  \n- http://tatoeba.org/eng/sentences/show/8609605  \n\n\n\n***\n \n\n### Likely Error report for user [Cumle_Kurucu](https://tatoeba.org/eng/user/profile/Cumle_Kurucu).\n\n\nBana komik bir mesaj atmış.  \n- atmış... -> altmış... (çoğu false positive)  \n- http://tatoeba.org/eng/sentences/show/8490727  \n\nBu yıl ona bir doğumgünü kartı gönderelim.  \n- doğumgünü... -> doğum günü...  \n- http://tatoeba.org/eng/sentences/show/8533035  \n\nBu haftasonunu ömrü boyunca hatırlayacak.  \n- haftasonu... -> hafta sonu...  \n- http://tatoeba.org/eng/sentences/show/8544527  \n\nEvde hiç bira içmez.  \n- hiç bir... -> hiçbir...  \n- http://tatoeba.org/eng/sentences/show/8579528  \n\n\n\n***\n \n\n### Likely Error report for user [cartals](https://tatoeba.org/eng/user/profile/cartals).\n\n\nUmarım iyi bir haftasonu geçirirsin.  \n- haftasonu... -> hafta sonu...  \n- http://tatoeba.org/eng/sentences/show/8456892  \n\nYapabildiğim herhangi bir zaman Avusturalya'ya gitmeye çalışıyorum.  \n- avusturalya... -> avustralya...  \n- http://tatoeba.org/eng/sentences/show/8457888  \n\nSami Layla'yı öpüyorken, Layla'nın pantalonunu çıkarmaya başladı.  \n- pantalon... -> pantolon...  \n- http://tatoeba.org/eng/sentences/show/8457908  \n\nTom'un Avusturalya'da olduğunu mu düşünüyorsun ?  \n- avusturalya... -> avustralya...  \n- http://tatoeba.org/eng/sentences/show/8459546  \n\nKimse farketmeden eve gizlice girdi ve hemen yatağa girdi.  \n- farket... -> fark et...  \n- http://tatoeba.org/eng/sentences/show/8460411  \n\n\n\n***\n \n\n### Likely Error report for user [keremcik](https://tatoeba.org/eng/user/profile/keremcik).\n\n\nAllah bu sabah kaybettiğimiz Amerikalıları kutsasın. Ailelerini yatıştırsın. Allah bu sevdalısı olduğumuz ülkeye gözkulak olsun. Amin.  \n- gözkulak... -> göz kulak...  \n- http://tatoeba.org/eng/sentences/show/8494900  \n\n\n\n***\n \n\n### Likely Error report for user [tahtabiti](https://tatoeba.org/eng/user/profile/tahtabiti).\n\n\nOnsekizinci yüzyılda yaşamış kölelerin trajik kaderinden bahsediyor.  \n- onsekiz... -> on sekiz...  \n- http://tatoeba.org/eng/sentences/show/8638824  \n\n\n\n***\n \n\n### Likely Error report for user [ondal30](https://tatoeba.org/eng/user/profile/ondal30).\n\n\nBir insanın gök kuşağını yedi renkle sınırlaması, gök kuşağını tanımamasındandır.  \n- gök kuşağı... -> gökkuşağı...  \n- http://tatoeba.org/eng/sentences/show/8647678  \n\nTom'un köpeği Mary'in kedisini korkuttu.  \n- mary'i... -> mary'yi...  \n- http://tatoeba.org/eng/sentences/show/8825789  \n\nBu günlerde sosyal mesafe önemli.  \n- bu gün... -> bugün...  \n- http://tatoeba.org/eng/sentences/show/8834531  \n\n\n\n***\n \n\n### Likely Error report for user [rimzone](https://tatoeba.org/eng/user/profile/rimzone).\n\n\nVejetaryen beslenmek sadece eti terketmek anlamına gelmez.  \n- terket... -> terk et...  \n- http://tatoeba.org/eng/sentences/show/8754281  \n\n\n\n***\n \n\n### Likely Error report for user [jungnet](https://tatoeba.org/eng/user/profile/jungnet).\n\n\nRastgelelik arama motorunda aradığım herşeyi bulabiliyorum.  \n- herşey... -> her şey...  \n- http://tatoeba.org/eng/sentences/show/8871066  \n\n\n\n***\n \n\n### Likely Error report for user [cagri](https://tatoeba.org/eng/user/profile/cagri).\n\n\nBurada ihtiyacım olan herşey var.  \n- herşey... -> her şey...  \n- http://tatoeba.org/eng/sentences/show/8904790  \n\n\n\n***\n \n\n### Likely Error report for user [faruk](https://tatoeba.org/eng/user/profile/faruk).\n\n\nSen burada hiç bir şey bulmayacaksın.  \n- hiç bir... -> hiçbir...  \n- http://tatoeba.org/eng/sentences/show/8946527  \n\n\n\n***\n \n\n### Likely Error report for user [aydincan77](https://tatoeba.org/eng/user/profile/aydincan77).\n\n\nO beysbol takımında, değil mi?  \n- beysbol... -> beyzbol...  \n- http://tatoeba.org/eng/sentences/show/9094546  \n\nYanni imama herşeyi anlattı.  \n- herşey... -> her şey...  \n- http://tatoeba.org/eng/sentences/show/9094761  \n\nTom hiç bir zaman bu kadar çok gülmezdi.  \n- hiç bir... -> hiçbir...  \n- http://tatoeba.org/eng/sentences/show/9095197  \n\n\n\n***\n \n\n### Likely Error report for user [tuubaersoy](https://tatoeba.org/eng/user/profile/tuubaersoy).\n\n\nTom Mary'i tekrar görmek istedi.  \n- mary'i... -> mary'yi...  \n- http://tatoeba.org/eng/sentences/show/9181118  \n\n***",
            "text/plain": [
              "<IPython.core.display.Markdown object>"
            ]
          },
          "metadata": {
            "tags": []
          }
        },
        {
          "output_type": "stream",
          "text": [
            "done\n"
          ],
          "name": "stdout"
        }
      ]
    },
    {
      "cell_type": "code",
      "metadata": {
        "colab": {
          "base_uri": "https://localhost:8080/"
        },
        "id": "Zi5vCADcltWX",
        "outputId": "76243e77-09a1-4663-a7f2-294a8ea8d007"
      },
      "source": [
        "with open('/content/output.MD','w',encoding=\"utf8\") as writefile: \n",
        " writefile.write(output)\n",
        "print(\"file written\")"
      ],
      "execution_count": 20,
      "outputs": [
        {
          "output_type": "stream",
          "text": [
            "file written\n"
          ],
          "name": "stdout"
        }
      ]
    }
  ]
}

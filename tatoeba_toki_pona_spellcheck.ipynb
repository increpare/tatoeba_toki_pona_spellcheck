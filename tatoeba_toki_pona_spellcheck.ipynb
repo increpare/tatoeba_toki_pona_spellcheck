{
  "nbformat": 4,
  "nbformat_minor": 0,
  "metadata": {
    "colab": {
      "name": "tatoeba toki pona spellcheck",
      "provenance": [],
      "collapsed_sections": [],
      "mount_file_id": "1iLaJnTyrElhz9edFLVofmio8krMzurWj",
      "authorship_tag": "ABX9TyOzHFbnPsc3R0uXsyM2LDuZ",
      "include_colab_link": true
    },
    "kernelspec": {
      "name": "python3",
      "display_name": "Python 3"
    }
  },
  "cells": [
    {
      "cell_type": "markdown",
      "metadata": {
        "id": "view-in-github",
        "colab_type": "text"
      },
      "source": [
        "<a href=\"https://colab.research.google.com/github/increpare/tatoeba_toki_pona_spellcheck/blob/main/tatoeba_toki_pona_spellcheck.ipynb\" target=\"_parent\"><img src=\"https://colab.research.google.com/assets/colab-badge.svg\" alt=\"Open In Colab\"/></a>"
      ]
    },
    {
      "cell_type": "code",
      "metadata": {
        "id": "SDfou7miwh1e",
        "colab": {
          "base_uri": "https://localhost:8080/"
        },
        "outputId": "218a0d98-244d-4b36-f7bb-ff7fcb3b73c7"
      },
      "source": [
        "# by jan Inkepa - https://github.com/increpare/tatoeba_toki_pona_spellcheck/blob/main/tatoeba_toki_pona_spellcheck.ipynb\n",
        "\n",
        "import os\n",
        "import urllib.request\n",
        "\n",
        "print(\"downloading toki pona sentences from tatoeba\")\n",
        "urllib.request.urlretrieve('https://downloads.tatoeba.org/exports/per_language/toki/toki_sentences.tsv.bz2', 'toki_sentences.tsv.bz2')\n",
        "\n",
        "!rm -rf /content/toki_sentences.tsv\n",
        "\n",
        "print(\"decompressing data\")\n",
        "!bunzip2 /content/toki_sentences.tsv.bz2\n",
        "print(\"done\")\n"
      ],
      "execution_count": 1,
      "outputs": [
        {
          "output_type": "stream",
          "text": [
            "downloading toki pona sentences from tatoeba\n",
            "decompressing data\n",
            "done\n"
          ],
          "name": "stdout"
        }
      ]
    },
    {
      "cell_type": "code",
      "metadata": {
        "id": "DA-EAzIgztwb"
      },
      "source": [
        "import pandas as pd\n",
        "df = pd.read_csv(\"/content/toki_sentences.tsv\",names=[\"k\",\"v\"],delimiter=\"\\t\")\n",
        "words = [\"a\",\"akesi\",\"ala\",\"ali\",\"alasa\",\"ale\",\"anpa\",\"ante\",\"anu\",\"awen\",\"e\",\"en\",\"esun\",\"ijo\",\"ike\",\"ilo\",\"insa\",\"jaki\",\"jan\",\"jelo\",\"jo\",\"kala\",\"kalama\",\"kama\",\"kasi\",\"ken\",\"kepeken\",\"kili\",\"kin\",\"kipisi\",\"kiwen\",\"ko\",\"kon\",\"kule\",\"kulupu\",\"kute\",\"la\",\"lape\",\"laso\",\"lawa\",\"leko\",\"len\",\"lete\",\"li\",\"lili\",\"linja\",\"lipu\",\"loje\",\"lon\",\"luka\",\"lukin\",\"lupa\",\"ma\",\"mama\",\"mani\",\"meli\",\"mi\",\"mije\",\"moku\",\"moli\",\"monsi\",\"monsuta\",\"mu\",\"mun\",\"musi\",\"mute\",\"namako\",\"nanpa\",\"nasa\",\"nasin\",\"nena\",\"ni\",\"nimi\",\"noka\",\"o\",\"oko\",\"olin\",\"ona\",\"open\",\"pakala\",\"pali\",\"palisa\",\"pan\",\"pana\",\"pi\",\"pilin\",\"pimeja\",\"pini\",\"pipi\",\"poka\",\"poki\",\"pona\",\"pu\",\"sama\",\"seli\",\"selo\",\"seme\",\"sewi\",\"sijelo\",\"sike\",\"sin\",\"sina\",\"sinpin\",\"sitelen\",\"sona\",\"soweli\",\"suli\",\"suno\",\"supa\",\"suwi\",\"tan\",\"taso\",\"tawa\",\"telo\",\"tenpo\",\"toki\",\"tomo\",\"tonsi\",\"tu\",\"unpa\",\"uta\",\"utala\",\"walo\",\"wan\",\"waso\",\"wawa\",\"weka\",\"wile\"]"
      ],
      "execution_count": 3,
      "outputs": []
    },
    {
      "cell_type": "code",
      "metadata": {
        "id": "J9GlA3om1Gsz",
        "outputId": "98feee2c-366e-4d98-960f-2657f052a48b",
        "colab": {
          "base_uri": "https://localhost:8080/"
        }
      },
      "source": [
        "import re\n",
        "\n",
        "def validate(w):\n",
        "  if w[0].isupper():\n",
        "    return True\n",
        "  return w in words\n",
        "\n",
        "#checks for \"mi/sina\" li sentences, and roughly for sentences with an \"e\" but without a \"li\"/\"o\"/\"mi\"/\"sina\"\n",
        "def validate_sentence(s,tokens,index):\n",
        "  if (tokens[0]==\"mi\" or tokens[0]==\"sina\") and tokens[1]==\"li\":\n",
        "    print(s) \n",
        "  if \"li\" not in tokens and \"e\" in tokens and \"o\" not in tokens:\n",
        "    if \"mi\" not in tokens and \"sina\" not in tokens:      \n",
        "      print(s)\n",
        "      print(\"\\thttps://tatoeba.org/eng/sentences/show/\"+str(index))\n",
        "\n",
        "freq={}\n",
        "links={}\n",
        "id_table={}\n",
        "\n",
        "for index, row in df.iterrows():\n",
        "  import re\n",
        "  id_table[index]=row\n",
        "  tokens = re.findall(r'\\w+',row['v'])\n",
        "  validate_sentence(row['v'],tokens,index)\n",
        "  for w in tokens:\n",
        "    if not validate(w):\n",
        "      if w not in freq:\n",
        "        freq[w]=0\n",
        "        links[w]=[]\n",
        "      freq[w]=freq[w]+1\n",
        "      links[w].append(index)\n",
        "      break"
      ],
      "execution_count": 9,
      "outputs": [
        {
          "output_type": "stream",
          "text": [
            "tenpo ale ona la ona pana e pona tawa jan.\n",
            "\thttps://tatoeba.org/eng/sentences/show/6376694\n",
            "jan Mike ken ala pali e ijo sama ni.\n",
            "\thttps://tatoeba.org/eng/sentences/show/6403400\n",
            "pona la moku e moku pona e telo pona la ike la toki nasa.\n",
            "\thttps://tatoeba.org/eng/sentences/show/6457104\n",
            "jan Tane pana e wan lili tan suwi pimeja tawa jan Linta.\n",
            "\thttps://tatoeba.org/eng/sentences/show/6467180\n",
            "tenpo ali la jan ken pali e pali pi jan ante.\n",
            "\thttps://tatoeba.org/eng/sentences/show/6485448\n",
            "jan pona kute e jan sewi.\n",
            "\thttps://tatoeba.org/eng/sentences/show/6634557\n",
            "open ala. tan ni la pona e tomo.\n",
            "\thttps://tatoeba.org/eng/sentences/show/6667614\n",
            "wile la walo moku Salito tawa e seli moku.\n",
            "\thttps://tatoeba.org/eng/sentences/show/6669160\n",
            "lon seme la kama e pakala?\n",
            "\thttps://tatoeba.org/eng/sentences/show/6682102\n",
            "lon seme la ken lukin e sitelen tawa?\n",
            "\thttps://tatoeba.org/eng/sentences/show/6700617\n",
            "tenpo ala la toki e ni: ala!\n",
            "\thttps://tatoeba.org/eng/sentences/show/6931709\n",
            "toki olin taso la kepeken e sike pi palisa luka.\n",
            "\thttps://tatoeba.org/eng/sentences/show/6943316\n",
            "suno lili taso tawa lukin e lipu.\n",
            "\thttps://tatoeba.org/eng/sentences/show/6981367\n",
            "jan seme la ken pini e ni?\n",
            "\thttps://tatoeba.org/eng/sentences/show/6994307\n",
            "tenpo pini la, jan Ton ken ala lukin e jan.\n",
            "\thttps://tatoeba.org/eng/sentences/show/7792134\n",
            "tenpo suno kama ni la, seli e mute seme?\n",
            "\thttps://tatoeba.org/eng/sentences/show/7815138\n",
            "tenpo suno ni la ona kama sona e jan pona sin lon tomo sona.\n",
            "\thttps://tatoeba.org/eng/sentences/show/8041562\n",
            "sine wile e ijo seme?\n",
            "\thttps://tatoeba.org/eng/sentences/show/8069210\n",
            "toki Alape non e ike mute.\n",
            "\thttps://tatoeba.org/eng/sentences/show/8115071\n",
            "Mi pana e nimi \"Kesi\" tawa ona.\n",
            "\thttps://tatoeba.org/eng/sentences/show/8318475\n",
            "sina li pilin pona anu seme?\n",
            "mo jo e palisa luka mute.\n",
            "\thttps://tatoeba.org/eng/sentences/show/9140426\n",
            "jan wile pali pi musi ala e ni.\n",
            "\thttps://tatoeba.org/eng/sentences/show/9265889\n",
            "nimi kulupu ni ken wile ala ni: jan pali e ni tawa toki ante.\n",
            "\thttps://tatoeba.org/eng/sentences/show/9317512\n"
          ],
          "name": "stdout"
        }
      ]
    },
    {
      "cell_type": "code",
      "metadata": {
        "id": "paYYpNIJ2Jln"
      },
      "source": [
        "d_view = [ (v,k) for k,v in freq.items() ]\n",
        "d_view.sort(reverse=True) # natively sort tuples by first element\n",
        "\n",
        "for k,w in d_view:\n",
        "    print(\"%s: %d\" % (w,k))\n",
        "    for id in links[w]:\n",
        "      print(\"\\t\"+id_table[id]['v'])\n",
        "      print(\"\\t\\thttps://tatoeba.org/eng/sentences/show/\"+str(id))"
      ],
      "execution_count": null,
      "outputs": []
    },
    {
      "cell_type": "code",
      "metadata": {
        "id": "Ul3UfL5d2IXz"
      },
      "source": [
        ""
      ],
      "execution_count": null,
      "outputs": []
    }
  ]
}
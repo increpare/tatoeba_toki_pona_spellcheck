{
  "nbformat": 4,
  "nbformat_minor": 0,
  "metadata": {
    "colab": {
      "name": "tatoeba toki pona spellcheck",
      "provenance": [],
      "collapsed_sections": [],
      "mount_file_id": "1exuga5gdupbU1v7LXU6FHsXVEsXfyZ7A",
      "authorship_tag": "ABX9TyMRcMFXVhnsM4FZZ1QDrvjv",
      "include_colab_link": true
    },
    "kernelspec": {
      "name": "python3",
      "display_name": "Python 3"
    },
    "widgets": {
      "application/vnd.jupyter.widget-state+json": {
        "b06b4a2ee4e44629881dc0bfcb983165": {
          "model_module": "@jupyter-widgets/controls",
          "model_name": "IntProgressModel",
          "state": {
            "_view_name": "ProgressView",
            "style": "IPY_MODEL_d3437a2e4aef4e83bd6c4a10080249cb",
            "_dom_classes": [],
            "description": "searching...",
            "_model_name": "IntProgressModel",
            "bar_style": "",
            "max": 42235,
            "_view_module": "@jupyter-widgets/controls",
            "_model_module_version": "1.5.0",
            "value": 42000,
            "_view_count": null,
            "_view_module_version": "1.5.0",
            "orientation": "horizontal",
            "min": 0,
            "description_tooltip": null,
            "_model_module": "@jupyter-widgets/controls",
            "layout": "IPY_MODEL_69b68721c15047858a450850e52a3a8c"
          }
        },
        "d3437a2e4aef4e83bd6c4a10080249cb": {
          "model_module": "@jupyter-widgets/controls",
          "model_name": "ProgressStyleModel",
          "state": {
            "_view_name": "StyleView",
            "_model_name": "ProgressStyleModel",
            "description_width": "",
            "_view_module": "@jupyter-widgets/base",
            "_model_module_version": "1.5.0",
            "_view_count": null,
            "_view_module_version": "1.2.0",
            "bar_color": null,
            "_model_module": "@jupyter-widgets/controls"
          }
        },
        "69b68721c15047858a450850e52a3a8c": {
          "model_module": "@jupyter-widgets/base",
          "model_name": "LayoutModel",
          "state": {
            "_view_name": "LayoutView",
            "grid_template_rows": null,
            "right": null,
            "justify_content": null,
            "_view_module": "@jupyter-widgets/base",
            "overflow": null,
            "_model_module_version": "1.2.0",
            "_view_count": null,
            "flex_flow": null,
            "width": null,
            "min_width": null,
            "border": null,
            "align_items": null,
            "bottom": null,
            "_model_module": "@jupyter-widgets/base",
            "top": null,
            "grid_column": null,
            "overflow_y": null,
            "overflow_x": null,
            "grid_auto_flow": null,
            "grid_area": null,
            "grid_template_columns": null,
            "flex": null,
            "_model_name": "LayoutModel",
            "justify_items": null,
            "grid_row": null,
            "max_height": null,
            "align_content": null,
            "visibility": null,
            "align_self": null,
            "height": null,
            "min_height": null,
            "padding": null,
            "grid_auto_rows": null,
            "grid_gap": null,
            "max_width": null,
            "order": null,
            "_view_module_version": "1.2.0",
            "grid_template_areas": null,
            "object_position": null,
            "object_fit": null,
            "grid_auto_columns": null,
            "margin": null,
            "display": null,
            "left": null
          }
        }
      }
    }
  },
  "cells": [
    {
      "cell_type": "markdown",
      "metadata": {
        "id": "view-in-github",
        "colab_type": "text"
      },
      "source": [
        "<a href=\"https://colab.research.google.com/github/increpare/tatoeba_toki_pona_spellcheck/blob/main/tatoeba_toki_pona_spellcheck.ipynb\" target=\"_parent\"><img src=\"https://colab.research.google.com/assets/colab-badge.svg\" alt=\"Open In Colab\"/></a>"
      ]
    },
    {
      "cell_type": "code",
      "metadata": {
        "id": "SDfou7miwh1e",
        "colab": {
          "base_uri": "https://localhost:8080/"
        },
        "outputId": "69003117-a88c-4a22-afe9-141a1740c6e2"
      },
      "source": [
        "!pip install emoji\n",
        "\n",
        "# by jan Inkepa - https://github.com/increpare/tatoeba_toki_pona_spellcheck/blob/main/tatoeba_toki_pona_spellcheck.ipynb\n",
        "\n",
        "import os\n",
        "import urllib.request\n",
        "from IPython.display import Markdown, display\n",
        "from emoji import UNICODE_EMOJI\n",
        "\n",
        "print(\"downloading toki pona sentences from tatoeba\")\n",
        "urllib.request.urlretrieve('https://downloads.tatoeba.org/exports/per_language/toki/toki_sentences_detailed.tsv.bz2', 'toki_sentences_detailed.tsv.bz2')\n",
        "\n",
        "!rm -rf /content/toki_sentences_detailed.tsv\n",
        "\n",
        "print(\"decompressing data\")\n",
        "!bunzip2 /content/toki_sentences_detailed.tsv.bz2\n",
        "print(\"done\")\n"
      ],
      "execution_count": 6,
      "outputs": [
        {
          "output_type": "stream",
          "text": [
            "Requirement already satisfied: emoji in /usr/local/lib/python3.6/dist-packages (0.6.0)\n",
            "downloading toki pona sentences from tatoeba\n",
            "decompressing data\n",
            "done\n"
          ],
          "name": "stdout"
        }
      ]
    },
    {
      "cell_type": "code",
      "metadata": {
        "id": "DA-EAzIgztwb"
      },
      "source": [
        "import pandas as pd\n",
        "df = pd.read_csv(\"/content/toki_sentences_detailed.tsv\",names=[\"k\",\"v\",\"user\",\"added\",\"modified\"],delimiter=\"\\t\")\n",
        "words = [\"a\",\"akesi\",\"ala\",\"ali\",\"alasa\",\"ale\",\"anpa\",\"ante\",\"anu\",\"awen\",\"e\",\"en\",\"esun\",\"ijo\",\"ike\",\"ilo\",\"insa\",\"jaki\",\"jan\",\"jelo\",\"jo\",\"kala\",\"kalama\",\"kama\",\"kasi\",\"ken\",\"kepeken\",\"kili\",\"kin\",\"kipisi\",\"kiwen\",\"ko\",\"kon\",\"kule\",\"kulupu\",\"kute\",\"la\",\"lape\",\"laso\",\"lawa\",\"leko\",\"len\",\"lete\",\"li\",\"lili\",\"linja\",\"lipu\",\"loje\",\"lon\",\"luka\",\"lukin\",\"lupa\",\"ma\",\"mama\",\"mani\",\"meli\",\"mi\",\"mije\",\"moku\",\"moli\",\"monsi\",\"monsuta\",\"mu\",\"mun\",\"musi\",\"mute\",\"namako\",\"nanpa\",\"nasa\",\"nasin\",\"nena\",\"ni\",\"nimi\",\"noka\",\"o\",\"oko\",\"olin\",\"ona\",\"open\",\"pakala\",\"pali\",\"palisa\",\"pan\",\"pana\",\"pi\",\"pilin\",\"pimeja\",\"pini\",\"pipi\",\"poka\",\"poki\",\"pona\",\"pu\",\"sama\",\"seli\",\"selo\",\"seme\",\"sewi\",\"sijelo\",\"sike\",\"sin\",\"sina\",\"sinpin\",\"sitelen\",\"sona\",\"soweli\",\"suli\",\"suno\",\"supa\",\"suwi\",\"tan\",\"taso\",\"tawa\",\"telo\",\"tenpo\",\"toki\",\"tomo\",\"tonsi\",\"tu\",\"unpa\",\"uta\",\"utala\",\"walo\",\"wan\",\"waso\",\"wawa\",\"weka\",\"wile\"]"
      ],
      "execution_count": 7,
      "outputs": []
    },
    {
      "cell_type": "code",
      "metadata": {
        "id": "J9GlA3om1Gsz",
        "colab": {
          "base_uri": "https://localhost:8080/",
          "height": 1000,
          "referenced_widgets": [
            "b06b4a2ee4e44629881dc0bfcb983165",
            "d3437a2e4aef4e83bd6c4a10080249cb",
            "69b68721c15047858a450850e52a3a8c"
          ]
        },
        "outputId": "dc83bedc-e493-4541-853d-1cb592079e09"
      },
      "source": [
        "import re\n",
        "\n",
        "def has_emoji(s):\n",
        "    count = 0\n",
        "    for emoji in UNICODE_EMOJI:\n",
        "        count += s.count(emoji)\n",
        "        if count >= 1:\n",
        "            return True\n",
        "    return False\n",
        "\n",
        "def validate(w):\n",
        "  if w[0].isupper():\n",
        "    return True#w.lower() not in words\n",
        "  return w in words or w.isnumeric()\n",
        "\n",
        "errors={}\n",
        "\n",
        "#checks for \"mi/sina\" li sentences, and roughly for sentences with an \"e\" but without a \"li\"/\"o\"/\"mi\"/\"sina\"\n",
        "def validate_sentence(s,tokens,index,user):\n",
        "  if user not in errors:\n",
        "    errors[user]=[]\n",
        "\n",
        "  if (tokens[0]==\"mi\" or tokens[0]==\"sina\") and tokens[1]==\"li\":\n",
        "    errors[user].append([s,index,\"mi\\sina li\"])\n",
        "    pass\n",
        "  if \"li\" not in tokens and \"e\" in tokens and \"o\" not in tokens:\n",
        "    if \"mi\" not in tokens and \"sina\" not in tokens:      \n",
        "      errors[user].append([s,index,\"'e' without 'li'/'mi'/'sina'/'o'\"])\n",
        "      pass\n",
        "  if bool(re.search(r\"\\b(la,?|\\.) (mi|sina) li\\b\",s)):\n",
        "    errors[user].append([s,index,\"mi\\sina li\"])\n",
        "    pass\n",
        "  if bool(re.search(r\"(wu|wo|ji|ti)\",s)):\n",
        "    errors[user].append([s,index,\"forbidden syllables wu/wo/ji/ti\"])\n",
        "    pass\n",
        "  lastchar = s[len(s)-1]\n",
        "  if lastchar.isalnum():\n",
        "    errors[user].append([s,index,\"Sentence doesn't end with punctuation\"])\n",
        "    pass\n",
        "  # if has_emoji(s):\n",
        "  #  errors[user].append([s,index,\"Contains emoji\"])\n",
        "\n",
        "freq={}\n",
        "links={}\n",
        "id_table={}\n",
        "\n",
        "from ipywidgets import IntProgress\n",
        "from IPython.display import display\n",
        "f = IntProgress(min=0, max=len(df),description=\"searching...\") # instantiate the bar\n",
        "\n",
        "display(f) # display the bar\n",
        "\n",
        "\n",
        "i=0\n",
        "for index, row in df.iterrows():\n",
        "  import re\n",
        "  id_table[index]=row\n",
        "  user = row['user']\n",
        "  sentence=row['v']\n",
        "  tokens = re.findall(r'\\w+',sentence)\n",
        "  validate_sentence(sentence,tokens,index,user)\n",
        "  for w in tokens:\n",
        "    if not validate(w):\n",
        "      if ('\"'+w+'\"') not in sentence:\n",
        "        if w not in freq:\n",
        "          freq[w]=0\n",
        "          links[w]=[]\n",
        "        freq[w]=freq[w]+1\n",
        "        links[w].append(index)\n",
        "        errors[user].append([sentence,index,\"likely misspelled word: \"+w])\n",
        "  i=i+1\n",
        "  if (i%1000)==0:\n",
        "          f.value=i\n",
        "\n",
        "import datetime\n",
        "\n",
        "output=\"# Tatoeba Toki Pona Error Report\\n\\n\"+str(datetime.datetime.now())+\"\\n\\n\"\n",
        "\n",
        "def printm(s):\n",
        "  global output\n",
        "  output=output+\"\\n\"+s;\n",
        "\n",
        "for u in errors:\n",
        "  errorlist = errors[u]\n",
        "  if len(errorlist)==0:\n",
        "    continue\n",
        "  printm(\"\\n\")\n",
        "  printm(\"***\")\n",
        "  printm(\" \\n\")\n",
        "  printm(\"### Likely Error report for user \"+u)\n",
        "  printm(\"\\n\")\n",
        "  for error in errorlist:\n",
        "    printm(\"\"+error[0]+\"  \")\n",
        "    printm(\"- \"+str(error[2])+\"  \")\n",
        "    printm(\"- http://tatoeba.org/eng/sentences/show/\"+str(error[1])+\"  \")\n",
        "    printm(\"\")\n",
        "\n",
        "display(Markdown(output))"
      ],
      "execution_count": 8,
      "outputs": [
        {
          "output_type": "display_data",
          "data": {
            "application/vnd.jupyter.widget-view+json": {
              "model_id": "b06b4a2ee4e44629881dc0bfcb983165",
              "version_minor": 0,
              "version_major": 2
            },
            "text/plain": [
              "IntProgress(value=0, description='searching...', max=42235)"
            ]
          },
          "metadata": {
            "tags": []
          }
        },
        {
          "output_type": "display_data",
          "data": {
            "text/markdown": "# Tatoeba Toki Pona Error Report\n\n2020-12-02 19:51:12.736983\n\n\n\n\n***\n \n\n### Likely Error report for user kroko\n\n\n„ona li open!“ – „ala. sina li open!“  \n- mi\\sina li  \n- http://tatoeba.org/eng/sentences/show/2969963  \n\nsina wile ala wile wan e nanpa ni  \n- Sentence doesn't end with punctuation  \n- http://tatoeba.org/eng/sentences/show/3005286  \n\nmi pona e tomo pi pata mi.  \n- likely misspelled word: pata  \n- http://tatoeba.org/eng/sentences/show/3005615  \n\npona! lawa insa sina li pini tawa sina pi nanpa tu. sina li kama moli li pona.  \n- mi\\sina li  \n- http://tatoeba.org/eng/sentences/show/3080251  \n\npata mi li jo e soweli.  \n- likely misspelled word: pata  \n- http://tatoeba.org/eng/sentences/show/3938433  \n\nmi kama jo e kili Apo teka tu lon esun.  \n- likely misspelled word: teka  \n- http://tatoeba.org/eng/sentences/show/4600833  \n\n\n\n***\n \n\n### Likely Error report for user bojnin\n\n\njan lili mute li musi lon ma kasi pi ma tomo  \n- Sentence doesn't end with punctuation  \n- http://tatoeba.org/eng/sentences/show/642739  \n\ntenpo suno kama la seli li pona la mi tawa tan insa  \n- Sentence doesn't end with punctuation  \n- http://tatoeba.org/eng/sentences/show/667636  \n\npilin pi kasi kule Lila li lon ma kasi pi poka tomo mute  \n- Sentence doesn't end with punctuation  \n- http://tatoeba.org/eng/sentences/show/740208  \n\n\n\n***\n \n\n### Likely Error report for user negativeclock\n\n\njan mute li olin e jan ni pi kalama pona sin ala  \n- Sentence doesn't end with punctuation  \n- http://tatoeba.org/eng/sentences/show/1419652  \n\n\n\n***\n \n\n### Likely Error report for user Tepan\n\n\njan Wope Teniwo li kama lon sitelen tawa ni lon tenpo lili.  \n- forbidden syllables wu/wo/ji/ti  \n- http://tatoeba.org/eng/sentences/show/9159880  \n\n\n\n***\n \n\n### Likely Error report for user Wadimiy\n\n\npata suli li lukin e sina.  \n- likely misspelled word: pata  \n- http://tatoeba.org/eng/sentences/show/2907834  \n\n\n\n***\n \n\n### Likely Error report for user rkqb\n\n\ntempo suno kama la jan Kise li ken ala pali.  \n- likely misspelled word: tempo  \n- http://tatoeba.org/eng/sentences/show/1703362  \n\n\n\n***\n \n\n### Likely Error report for user carlosalberto\n\n\njan lawa nanpa wan pi kule pimeja pi ma Mewika li jan Palakawopama.  \n- forbidden syllables wu/wo/ji/ti  \n- http://tatoeba.org/eng/sentences/show/4543481  \n\njan Awowi li tawa musi pona mute.  \n- forbidden syllables wu/wo/ji/ti  \n- http://tatoeba.org/eng/sentences/show/4545010  \n\nmi sona e ni: sina kama sona mute  \n- Sentence doesn't end with punctuation  \n- http://tatoeba.org/eng/sentences/show/4640786  \n\njan Sunewoki Iketa li pona tawa ona.  \n- forbidden syllables wu/wo/ji/ti  \n- http://tatoeba.org/eng/sentences/show/4674880  \n\njan Siwokene li jan sona pi ma Elena li jo ala e tomo. tomo ona li poki sike pi tenpo suli.  \n- forbidden syllables wu/wo/ji/ti  \n- http://tatoeba.org/eng/sentences/show/4712141  \n\nnasin pona ii pona mute ala.  \n- likely misspelled word: ii  \n- http://tatoeba.org/eng/sentences/show/9135950  \n\n\n\n***\n \n\n### Likely Error report for user soweli_Elepanto\n\n\njan Losi li musi uta ala  \n- Sentence doesn't end with punctuation  \n- http://tatoeba.org/eng/sentences/show/1725107  \n\n\n\n***\n \n\n### Likely Error report for user komap\n\n\nmo jo e palisa luka mute.  \n- 'e' without 'li'/'mi'/'sina'/'o'  \n- http://tatoeba.org/eng/sentences/show/9140426  \n\nmo jo e palisa luka mute.  \n- likely misspelled word: mo  \n- http://tatoeba.org/eng/sentences/show/9140426  \n\n\n\n***\n \n\n### Likely Error report for user temlat\n\n\ntelo Waloti li telo nasa ala. ona li telo kasi seli.  \n- forbidden syllables wu/wo/ji/ti  \n- http://tatoeba.org/eng/sentences/show/2622442  \n\n\n\n***\n \n\n### Likely Error report for user klagefall\n\n\nmi en meli mi li wan  \n- Sentence doesn't end with punctuation  \n- http://tatoeba.org/eng/sentences/show/3002378  \n\nkute tan kama sona. kute tan ala toki  \n- Sentence doesn't end with punctuation  \n- http://tatoeba.org/eng/sentences/show/3002384  \n\n\n\n***\n \n\n### Likely Error report for user Reonaato\n\n\njan pona kute e jan sewi.  \n- 'e' without 'li'/'mi'/'sina'/'o'  \n- http://tatoeba.org/eng/sentences/show/6634557  \n\n\n\n***\n \n\n### Likely Error report for user pinaxe\n\n\nmi pilin e ni: tenpo kama li pona ala anu li pona lili  \n- Sentence doesn't end with punctuation  \n- http://tatoeba.org/eng/sentences/show/6174026  \n\nijo in li ijo sina ala sina?  \n- likely misspelled word: in  \n- http://tatoeba.org/eng/sentences/show/6177177  \n\n\n\n***\n \n\n### Likely Error report for user list\n\n\nsoweli pi mu \"uuu-aaa-a-a-a\" li jo e sona wawa.  \n- likely misspelled word: uuu  \n- http://tatoeba.org/eng/sentences/show/6058474  \n\nsoweli pi mu \"uuu-aaa-a-a-a\" li jo e sona wawa.  \n- likely misspelled word: aaa  \n- http://tatoeba.org/eng/sentences/show/6058474  \n\njan Mawi li moku e kili loje Tomato  \n- Sentence doesn't end with punctuation  \n- http://tatoeba.org/eng/sentences/show/6372734  \n\nmi wile sona e ni: tenpo pini la tan seme la jan Ton li kama jo lon esun e ni  \n- Sentence doesn't end with punctuation  \n- http://tatoeba.org/eng/sentences/show/6376397  \n\njan Ton li jo e sijelo ike. ona li toki sama waso pimeja Kowo.  \n- forbidden syllables wu/wo/ji/ti  \n- http://tatoeba.org/eng/sentences/show/6376658  \n\ntenpo ale ona la ona pana e pona tawa jan.  \n- 'e' without 'li'/'mi'/'sina'/'o'  \n- http://tatoeba.org/eng/sentences/show/6376694  \n\ntenpo muno li jo e tenpo suno li mute seme?  \n- likely misspelled word: muno  \n- http://tatoeba.org/eng/sentences/show/6381347  \n\njan ni li weka ike e sitlen lape pi mi mute la jan ni li lawa e moli tawa mi mute.  \n- likely misspelled word: sitlen  \n- http://tatoeba.org/eng/sentences/show/6391233  \n\njan 🤠 li wile kama sona. taso sina sama soweli 🐃 la sina li kama sona pi wawa mute.  \n- mi\\sina li  \n- http://tatoeba.org/eng/sentences/show/6391330  \n\npip Luso seme li tawa lon insa Epato sina?  \n- likely misspelled word: pip  \n- http://tatoeba.org/eng/sentences/show/6392362  \n\njan li toki tan akesi ike suli 👹 la jan Kati li kama.  \n- forbidden syllables wu/wo/ji/ti  \n- http://tatoeba.org/eng/sentences/show/6397359  \n\nsina pakala ala e jan ante la sina ken pali e wile sina  \n- Sentence doesn't end with punctuation  \n- http://tatoeba.org/eng/sentences/show/6401642  \n\nma tomo Situtika li kama pakala la seme li lon?  \n- forbidden syllables wu/wo/ji/ti  \n- http://tatoeba.org/eng/sentences/show/6406004  \n\njan Mawi li jan pali pi sitlen tawa li jo e ken.  \n- likely misspelled word: sitlen  \n- http://tatoeba.org/eng/sentences/show/6452080  \n\npona la moku e moku pona e telo pona la ike la toki nasa.  \n- 'e' without 'li'/'mi'/'sina'/'o'  \n- http://tatoeba.org/eng/sentences/show/6457104  \n\ntomo lipu 🏭📰 li kama moli la nasin Temokati li kama moli.  \n- forbidden syllables wu/wo/ji/ti  \n- http://tatoeba.org/eng/sentences/show/6466795  \n\ntenpo ala la jan Tane li kama sona ala e mama sina  \n- Sentence doesn't end with punctuation  \n- http://tatoeba.org/eng/sentences/show/6467190  \n\ntenpo wan pini la  \n- Sentence doesn't end with punctuation  \n- http://tatoeba.org/eng/sentences/show/6469732  \n\nkili pomo li lon ni. mi lukin e ona.  \n- likely misspelled word: pomo  \n- http://tatoeba.org/eng/sentences/show/6480018  \n\nolin li wile ala kama jo tan jan ante. olin li wille pana e ali tawa jan ante.  \n- likely misspelled word: wille  \n- http://tatoeba.org/eng/sentences/show/6480036  \n\nmi mute li pali e anu tawa ni: kama weka lon lape la ona li ken pali e sitlen lape ona tawa lon.  \n- likely misspelled word: sitlen  \n- http://tatoeba.org/eng/sentences/show/6482929  \n\ntenpo sinpin la sina kepeken e ilo sitlen tawa la o pali e pali pi kama sona.  \n- likely misspelled word: sitlen  \n- http://tatoeba.org/eng/sentences/show/6534496  \n\nsitelen pi nimi ma li selo tan palisa pi kasi suli la jan li ken lili lukin e sitlen ni.  \n- likely misspelled word: sitlen  \n- http://tatoeba.org/eng/sentences/show/6544005  \n\nmi jan Anitile.  \n- forbidden syllables wu/wo/ji/ti  \n- http://tatoeba.org/eng/sentences/show/6578583  \n\nakesi ike suli 👹 li kama jo e wan pi linja lawa sina la tenpo ale la sina li jo pi akesi ike suli.  \n- mi\\sina li  \n- http://tatoeba.org/eng/sentences/show/6587590  \n\nlon pi mel ni li suwi.  \n- likely misspelled word: mel  \n- http://tatoeba.org/eng/sentences/show/6590967  \n\njan Putin li wile e nasin seme pi kulupu jan li lawa tawa lon?  \n- forbidden syllables wu/wo/ji/ti  \n- http://tatoeba.org/eng/sentences/show/6595743  \n\nmi wile ala pakala e jan ali  \n- Sentence doesn't end with punctuation  \n- http://tatoeba.org/eng/sentences/show/6596965  \n\nmute seme pi len noka anpa la sina li jo?  \n- mi\\sina li  \n- http://tatoeba.org/eng/sentences/show/6602498  \n\ntenpo monsi pi tenpo sike pi tu wan la meli ni li tawa weka tan jan olin la tan ni la jan oli li kepeken ike e meli ni.  \n- likely misspelled word: oli  \n- http://tatoeba.org/eng/sentences/show/6617669  \n\nnimi mi li jan Lutiwi.  \n- forbidden syllables wu/wo/ji/ti  \n- http://tatoeba.org/eng/sentences/show/6626836  \n\nopen ala. tan ni la pona e tomo.  \n- 'e' without 'li'/'mi'/'sina'/'o'  \n- http://tatoeba.org/eng/sentences/show/6667614  \n\nwile la walo moku Salito tawa e seli moku.  \n- 'e' without 'li'/'mi'/'sina'/'o'  \n- http://tatoeba.org/eng/sentences/show/6669160  \n\nlon seme la kama e pakala?  \n- 'e' without 'li'/'mi'/'sina'/'o'  \n- http://tatoeba.org/eng/sentences/show/6682102  \n\nmi kama jo ala e sono sin tan jan Tone.  \n- likely misspelled word: sono  \n- http://tatoeba.org/eng/sentences/show/6688317  \n\npon sina o lon seme li poki telo jaki?  \n- likely misspelled word: pon  \n- http://tatoeba.org/eng/sentences/show/6700528  \n\nlon seme la ken lukin e sitelen tawa?  \n- 'e' without 'li'/'mi'/'sina'/'o'  \n- http://tatoeba.org/eng/sentences/show/6700617  \n\nlon seme la sina li tomo tawa?  \n- mi\\sina li  \n- http://tatoeba.org/eng/sentences/show/6700663  \n\nmi lukin lon sona mi la sina li mije sama mi.  \n- mi\\sina li  \n- http://tatoeba.org/eng/sentences/show/6702656  \n\nsijelo pi jan Ton li suli mute la sielo pi jan Mawi li suli lili.  \n- likely misspelled word: sielo  \n- http://tatoeba.org/eng/sentences/show/6843418  \n\njan Ton li pana e pono tawa mama meli ona lon tomo moku.  \n- likely misspelled word: pono  \n- http://tatoeba.org/eng/sentences/show/6847920  \n\nsuno li sono walo mute kin la mi mute li wile e lukin tawa poka.  \n- likely misspelled word: sono  \n- http://tatoeba.org/eng/sentences/show/6851919  \n\ntenop suno ni la mi wile ala musi e musi Teniso.  \n- likely misspelled word: tenop  \n- http://tatoeba.org/eng/sentences/show/6855920  \n\nni li pona lukin lon sitelten. ni li pona lili lon lon.  \n- likely misspelled word: sitelten  \n- http://tatoeba.org/eng/sentences/show/6862159  \n\nmi wile ala e ni: ona mijel li kama tawa ma pi akesi Satan. taso mi ken ala weka e ike tan ona.  \n- likely misspelled word: mijel  \n- http://tatoeba.org/eng/sentences/show/6886624  \n\npona li ni: tomo sin en ja pona pi tenpo suli.  \n- likely misspelled word: ja  \n- http://tatoeba.org/eng/sentences/show/6891252  \n\nsina kepeken e nena lili ni la lupo tomo li kama open.  \n- likely misspelled word: lupo  \n- http://tatoeba.org/eng/sentences/show/6892286  \n\nona li tomo lon tomo pi mani mute. poka lili lon ma laso kulupu Senta Pawo.  \n- forbidden syllables wu/wo/ji/ti  \n- http://tatoeba.org/eng/sentences/show/6893979  \n\njan li kekepen kasi tawa supa sitelen.  \n- likely misspelled word: kekepen  \n- http://tatoeba.org/eng/sentences/show/6895331  \n\ntenpo pini la mi lape pona ala  \n- Sentence doesn't end with punctuation  \n- http://tatoeba.org/eng/sentences/show/6897354  \n\nilo tawa mi li tenpo suli mute la mi li tenpo suli lili.  \n- mi\\sina li  \n- http://tatoeba.org/eng/sentences/show/6899857  \n\ntenpo mute la jan suli mute Atila li lukin sama e ni: ona li jo e sike ma lon sijelo Sulito.  \n- forbidden syllables wu/wo/ji/ti  \n- http://tatoeba.org/eng/sentences/show/6899877  \n\ntawa mi la tenpo mun pi nanpa luka tu tu li mute ale lon tenpo sike  \n- Sentence doesn't end with punctuation  \n- http://tatoeba.org/eng/sentences/show/6900215  \n\njan li toki e ni: nimi a. la ona li wile toki kin e ni: nimi p. ona li pana lon tenpo wan la ona li wile pana kin lon tenpo tu.  \n- likely misspelled word: p  \n- http://tatoeba.org/eng/sentences/show/6931594  \n\ntenpo ala la toki e ni: ala!  \n- 'e' without 'li'/'mi'/'sina'/'o'  \n- http://tatoeba.org/eng/sentences/show/6931709  \n\nsina ken ala kepeken e toki lon ala tawa mi. mi lukin e ni: tenpo pini la jan pali utala li lon ni kin. taso ona li kama jo ike ala e ijo. sina li jan pi kama jo ike. sina wile pana e mani.  \n- mi\\sina li  \n- http://tatoeba.org/eng/sentences/show/6934826  \n\nmi sona e ni: sina jo ala e ijo ni. mi kama pana e mani mute tawa sina. taso mi wile sona e ni: ken la sina li jan pi pilin akesi la mi wile ala pana e mani tawa ala.  \n- mi\\sina li  \n- http://tatoeba.org/eng/sentences/show/6934830  \n\ntoki olin taso la kepeken e sike pi palisa luka.  \n- 'e' without 'li'/'mi'/'sina'/'o'  \n- http://tatoeba.org/eng/sentences/show/6943316  \n\ntelo sijeo loje pi tu wan li tawa anpa lon supa pi ko lete.  \n- likely misspelled word: sijeo  \n- http://tatoeba.org/eng/sentences/show/6955304  \n\nwaso li kama tawa lukin e jan lili. waso Siko e waso Kowo e waso Kolonpo.  \n- forbidden syllables wu/wo/ji/ti  \n- http://tatoeba.org/eng/sentences/show/6955423  \n\npona nasa la lupa telo li jo ala e telo. jan pi tenpo sike lili li tawa anpa pakala lon kasi lili Muko taso. taso ona li ken tawa ala tan lupo.  \n- likely misspelled word: lupo  \n- http://tatoeba.org/eng/sentences/show/6963589  \n\nsuno lili taso tawa lukin e lipu.  \n- 'e' without 'li'/'mi'/'sina'/'o'  \n- http://tatoeba.org/eng/sentences/show/6981367  \n\ntelo loje siejelo li lon len sina anu seme?  \n- likely misspelled word: siejelo  \n- http://tatoeba.org/eng/sentences/show/6981492  \n\njan seme la ken pini e ni?  \n- 'e' without 'li'/'mi'/'sina'/'o'  \n- http://tatoeba.org/eng/sentences/show/6994307  \n\nwawa lili sina seme la sina li jo?  \n- mi\\sina li  \n- http://tatoeba.org/eng/sentences/show/6996679  \n\ntan seme la sina li jan pi pona ale tawa pali ni?  \n- mi\\sina li  \n- http://tatoeba.org/eng/sentences/show/7001171  \n\ntenpo mute la sina li ike sijelo anu seme?  \n- mi\\sina li  \n- http://tatoeba.org/eng/sentences/show/7001334  \n\ntawa jan ante la mi jan lawa. taso mi ala kin lon kupupu.  \n- likely misspelled word: kupupu  \n- http://tatoeba.org/eng/sentences/show/7009772  \n\nale ll jaki lon sike mi.  \n- likely misspelled word: ll  \n- http://tatoeba.org/eng/sentences/show/7020066  \n\nsina lukin ala e pona lili pi tenpo lili lo o pini.  \n- likely misspelled word: lo  \n- http://tatoeba.org/eng/sentences/show/7030039  \n\ntawa jan Ton la jan Mali li ike lukin. taso jan Mali li ken kama lon pona lukln.  \n- likely misspelled word: lukln  \n- http://tatoeba.org/eng/sentences/show/7039112  \n\njan Toni en jan Ton li utala sama e jan Tawi en jan Koli  \n- Sentence doesn't end with punctuation  \n- http://tatoeba.org/eng/sentences/show/7054245  \n\ntemo ala la jan Mali li moku e kiwen insa en selo pi kili Pomo.  \n- likely misspelled word: temo  \n- http://tatoeba.org/eng/sentences/show/7059362  \n\nsina jo ala jo e lete pi ike siejelo?  \n- likely misspelled word: siejelo  \n- http://tatoeba.org/eng/sentences/show/7109069  \n\njan Ton li open e kalama musi uta ona  \n- Sentence doesn't end with punctuation  \n- http://tatoeba.org/eng/sentences/show/7115418  \n\npilin sina la sina li meli pi pona ale lukin lon sike ma.  \n- mi\\sina li  \n- http://tatoeba.org/eng/sentences/show/7128361  \n\ntenpo suo open ale la jan Ton li awen lon ma kasi.  \n- likely misspelled word: suo  \n- http://tatoeba.org/eng/sentences/show/7223669  \n\nmeli li suli  \n- Sentence doesn't end with punctuation  \n- http://tatoeba.org/eng/sentences/show/7247231  \n\ntenpo suno ni la jan Mali li seli e moku sike Patikuko.  \n- forbidden syllables wu/wo/ji/ti  \n- http://tatoeba.org/eng/sentences/show/7255562  \n\ntelo naso Wino loje ni li pona ale tawa mi.  \n- likely misspelled word: naso  \n- http://tatoeba.org/eng/sentences/show/7372885  \n\nsina wile ala wile moku e kili pomo? - wile ala. mi moku e kili tu lon tenpo pini.  \n- likely misspelled word: pomo  \n- http://tatoeba.org/eng/sentences/show/7461691  \n\ntenpo 🎄 la mi li tawa tomo pi jan lili mi.  \n- mi\\sina li  \n- http://tatoeba.org/eng/sentences/show/7477348  \n\ntawa moku la jan Ton li moku e telo naso pi poki tu taso.  \n- likely misspelled word: naso  \n- http://tatoeba.org/eng/sentences/show/7477703  \n\nsoweli li anpa lo supa monsi la sina ken ala ken lukin e ona?  \n- likely misspelled word: lo  \n- http://tatoeba.org/eng/sentences/show/7487904  \n\ntomo tawa ni li jaki la oni li wile e pona.  \n- likely misspelled word: oni  \n- http://tatoeba.org/eng/sentences/show/7666648  \n\nwile mir la ken la sina sama li ken toki e ale tawa mi.  \n- likely misspelled word: mir  \n- http://tatoeba.org/eng/sentences/show/7680675  \n\njan pi poka seme la sina li lon?  \n- mi\\sina li  \n- http://tatoeba.org/eng/sentences/show/7703411  \n\nona li kama sona e toki Latino lon tomo sona.  \n- forbidden syllables wu/wo/ji/ti  \n- http://tatoeba.org/eng/sentences/show/7713814  \n\npilin mi la sina kepeken e len ni la sina li pona lukin.  \n- mi\\sina li  \n- http://tatoeba.org/eng/sentences/show/7758284  \n\nnasina ala tawa ni: jan li ken weka tan lon ni.  \n- likely misspelled word: nasina  \n- http://tatoeba.org/eng/sentences/show/7768376  \n\nsina moku ala molu e telo nasa Wino? - ala. mi kepeken ilo tawa la mi moku e telo kili Pomo.  \n- likely misspelled word: molu  \n- http://tatoeba.org/eng/sentences/show/7786322  \n\ntenpo pini la sina li jan pali pi tomo moku anu seme?  \n- mi\\sina li  \n- http://tatoeba.org/eng/sentences/show/7816890  \n\nmi wile e nasin ni: tan tomo awen pi jan kama tawa tomo awen pi tomo tawa lijna.  \n- likely misspelled word: lijna  \n- http://tatoeba.org/eng/sentences/show/7817169  \n\njan Ton li wile ala kepeken ilo pi sitele tawa.  \n- likely misspelled word: sitele  \n- http://tatoeba.org/eng/sentences/show/7818990  \n\nnasin seme la nasin Politiko li pali lon ma Kanse?  \n- forbidden syllables wu/wo/ji/ti  \n- http://tatoeba.org/eng/sentences/show/7820227  \n\nsina lukin sama e ni: sina pilin nasa la tan seme la sina li ni?  \n- mi\\sina li  \n- http://tatoeba.org/eng/sentences/show/7821481  \n\nmi will pona e jan Ton tan ni: ona li ken tawa tomo sona.  \n- likely misspelled word: will  \n- http://tatoeba.org/eng/sentences/show/7829288  \n\ntenpo seme la sina kama lon suno? - tenpo mun pi nanpa tu tu la tenpo suno pi luka wan  \n- Sentence doesn't end with punctuation  \n- http://tatoeba.org/eng/sentences/show/7848143  \n\no tenpo pimjea open pona tawa meli en mije mi. o kama pona lon sitelen tawa pi mi mute.  \n- likely misspelled word: pimjea  \n- http://tatoeba.org/eng/sentences/show/7848213  \n\ntenpo ilo pi napa tu wan la jan Ton li kama lon tomo awen pi tomo tawa linja.  \n- likely misspelled word: napa  \n- http://tatoeba.org/eng/sentences/show/7874828  \n\nnimi ni li kama tan toki Latin.  \n- forbidden syllables wu/wo/ji/ti  \n- http://tatoeba.org/eng/sentences/show/7874896  \n\nseme li ma Palatiso tawa sina?  \n- forbidden syllables wu/wo/ji/ti  \n- http://tatoeba.org/eng/sentences/show/7883926  \n\nm tawa tomo mi. tenpo lili la mi kama sin.  \n- likely misspelled word: m  \n- http://tatoeba.org/eng/sentences/show/7887619  \n\nmi lon poka pi nasin Temokati.  \n- forbidden syllables wu/wo/ji/ti  \n- http://tatoeba.org/eng/sentences/show/7887868  \n\nnasin Temokati li pona tawa mi.  \n- forbidden syllables wu/wo/ji/ti  \n- http://tatoeba.org/eng/sentences/show/7887869  \n\ntan seme la sina kepeken e supa mons mi?  \n- likely misspelled word: mons  \n- http://tatoeba.org/eng/sentences/show/7894628  \n\nilo ni pi sitele tawa li pakala.  \n- likely misspelled word: sitele  \n- http://tatoeba.org/eng/sentences/show/7919275  \n\nsama ni la sina wile kama jo e mi la mi li kiwen tawa sina.  \n- mi\\sina li  \n- http://tatoeba.org/eng/sentences/show/7928258  \n\nmi pilin sin sama ni: mi jan pi tenpo sike lili  \n- Sentence doesn't end with punctuation  \n- http://tatoeba.org/eng/sentences/show/7960997  \n\nsina ala lon ni la tan ni: mi mute li pilin ike  \n- Sentence doesn't end with punctuation  \n- http://tatoeba.org/eng/sentences/show/7965476  \n\nsitelten sona ona li suli ala.  \n- likely misspelled word: sitelten  \n- http://tatoeba.org/eng/sentences/show/8178509  \n\no tawa. sina sama o luki pali.  \n- likely misspelled word: luki  \n- http://tatoeba.org/eng/sentences/show/8178970  \n\no tenpo pimjea pona. o sitelen lape tawa sina.  \n- likely misspelled word: pimjea  \n- http://tatoeba.org/eng/sentences/show/8182663  \n\ntenpo suno pini ni la mije sama pi mama mi li moli tan ike sielo Kanselo.  \n- likely misspelled word: sielo  \n- http://tatoeba.org/eng/sentences/show/8184588  \n\nunu. tu, tu wan. tu tu. luka. luka wan. luka tu. luka tu wan. luka tu tu. luka luka.  \n- likely misspelled word: unu  \n- http://tatoeba.org/eng/sentences/show/8198974  \n\nsina lon sina la sina li pona tawa mi.  \n- mi\\sina li  \n- http://tatoeba.org/eng/sentences/show/8209740  \n\nja Lisa li wile ala lon kulupu.  \n- likely misspelled word: ja  \n- http://tatoeba.org/eng/sentences/show/8220556  \n\ntenpo pi ike sijo ona la jan pona li kama tawa ona lon tenpo mute.  \n- likely misspelled word: sijo  \n- http://tatoeba.org/eng/sentences/show/8220603  \n\nsina sama e ni la sina li pona tawa mi.  \n- mi\\sina li  \n- http://tatoeba.org/eng/sentences/show/8223348  \n\ntelo siejlo loje li telo pi pona mute.  \n- likely misspelled word: siejlo  \n- http://tatoeba.org/eng/sentences/show/8225254  \n\na! ona li kalam musi ike! jaki! ona li kama musi pi nasin lawa!  \n- likely misspelled word: kalam  \n- http://tatoeba.org/eng/sentences/show/8225289  \n\nteno suno sin ale la jan Ton li pali lukin e ijo ante.  \n- likely misspelled word: teno  \n- http://tatoeba.org/eng/sentences/show/8306566  \n\ntenpo ala la jan Ton li toki eni.  \n- likely misspelled word: eni  \n- http://tatoeba.org/eng/sentences/show/8333292  \n\ntenpo mute la mije sama mi li awen lape ala lon tenpo pimjea.  \n- likely misspelled word: pimjea  \n- http://tatoeba.org/eng/sentences/show/8612710  \n\nona li jo ala e wawa pi sitlene sona.  \n- likely misspelled word: sitlene  \n- http://tatoeba.org/eng/sentences/show/8612757  \n\njan tawa pi ma ante li kute e toki pi jan lawa  \n- Sentence doesn't end with punctuation  \n- http://tatoeba.org/eng/sentences/show/8621360  \n\nsina lukin ala lukin e sitele lawa pi ona mije?  \n- likely misspelled word: sitele  \n- http://tatoeba.org/eng/sentences/show/8622798  \n\nona li seli e suwi pan Mupin  \n- Sentence doesn't end with punctuation  \n- http://tatoeba.org/eng/sentences/show/8622807  \n\ntenpo suno napa pi luka wan li tenpo suno musi ona.  \n- likely misspelled word: napa  \n- http://tatoeba.org/eng/sentences/show/8666221  \n\nteno ni la jan seme li lon sewi?  \n- likely misspelled word: teno  \n- http://tatoeba.org/eng/sentences/show/8666320  \n\nsina sona ala sona wawa e ni: tomo tawa lijna ni li pona?  \n- likely misspelled word: lijna  \n- http://tatoeba.org/eng/sentences/show/8670991  \n\nkili mute lon pokl.  \n- likely misspelled word: pokl  \n- http://tatoeba.org/eng/sentences/show/8677007  \n\nmi lon seme lon nasin ni. o lawa e lukin mi  \n- Sentence doesn't end with punctuation  \n- http://tatoeba.org/eng/sentences/show/8688368  \n\nmama mama meli mi o lawa e lukin mi tan ni: nasin seme la mi li pona e supa lape mi?  \n- mi\\sina li  \n- http://tatoeba.org/eng/sentences/show/8690719  \n\nmi lawa e ilo tawa sike 🚲 la tepo ale la mi kepeken selo lawa ⛑.  \n- likely misspelled word: tepo  \n- http://tatoeba.org/eng/sentences/show/8891402  \n\ntenpo suli seme la tomo esun li open lon tenp suno ni?  \n- likely misspelled word: tenp  \n- http://tatoeba.org/eng/sentences/show/8900890  \n\nmije ni li utata e ona. ona li wile moli e ona.  \n- likely misspelled word: utata  \n- http://tatoeba.org/eng/sentences/show/8908424  \n\njan Mali li kama jo e supo monsi ni: ona li poka lili lon lupa tomo.  \n- likely misspelled word: supo  \n- http://tatoeba.org/eng/sentences/show/8908570  \n\nnunpa 0️⃣ li pona tawa jan lawa pi tomo tawa telo. ona li pilin e ni: nanpa 0️⃣ li sama e ilo sike lon telo suli.  \n- likely misspelled word: nunpa  \n- http://tatoeba.org/eng/sentences/show/8987116  \n\ntenpo pmeja pini ni la mi moku e pan en sin Kuli 🍛.  \n- likely misspelled word: pmeja  \n- http://tatoeba.org/eng/sentences/show/8987363  \n\nsitelen sona li kama ala la ni li sama. jan li wile sitelten la jan li ken.  \n- likely misspelled word: sitelten  \n- http://tatoeba.org/eng/sentences/show/8995854  \n\ntenpo pimjea la kon tawa 🌬 li tawa wawa.  \n- likely misspelled word: pimjea  \n- http://tatoeba.org/eng/sentences/show/9048938  \n\nlen noko 🧦 pi jan Ton li jo e lupa 🕳.  \n- likely misspelled word: noko  \n- http://tatoeba.org/eng/sentences/show/9051020  \n\njanTon li alasa e kala la ni li pona tawa ona.  \n- likely misspelled word: janTon  \n- http://tatoeba.org/eng/sentences/show/9067218  \n\ntemp ale la jan sewi en jan anpa li kama lon tenpo sama.  \n- likely misspelled word: temp  \n- http://tatoeba.org/eng/sentences/show/9117066  \n\njan li jo e mani pi mute ili la jan li jo e jan lili pi mute pona.  \n- likely misspelled word: ili  \n- http://tatoeba.org/eng/sentences/show/9120460  \n\n\n\n***\n \n\n### Likely Error report for user Rodrigopredja\n\n\ntenpo pimeja pini la mi sitelen lape e sina uta tawa uta mi  \n- Sentence doesn't end with punctuation  \n- http://tatoeba.org/eng/sentences/show/4975267  \n\n\n\n***\n \n\n### Likely Error report for user Zyurs\n\n\njan Mike ken ala pali e ijo sama ni.  \n- 'e' without 'li'/'mi'/'sina'/'o'  \n- http://tatoeba.org/eng/sentences/show/6403400  \n\ntenpo ali la jan ken pali e pali pi jan ante.  \n- 'e' without 'li'/'mi'/'sina'/'o'  \n- http://tatoeba.org/eng/sentences/show/6485448  \n\nilo lukin ona li pakala  \n- Sentence doesn't end with punctuation  \n- http://tatoeba.org/eng/sentences/show/6589582  \n\njan pi kalama musi li lon ala  \n- Sentence doesn't end with punctuation  \n- http://tatoeba.org/eng/sentences/show/6589637  \n\n\n\n***\n \n\n### Likely Error report for user jan_Ne\n\n\no tawa  \n- Sentence doesn't end with punctuation  \n- http://tatoeba.org/eng/sentences/show/6864665  \n\nmi tawa  \n- Sentence doesn't end with punctuation  \n- http://tatoeba.org/eng/sentences/show/6864671  \n\nmi toki kepeken toki Epanja  \n- Sentence doesn't end with punctuation  \n- http://tatoeba.org/eng/sentences/show/6864683  \n\nmi toki kepeken toki Inli  \n- Sentence doesn't end with punctuation  \n- http://tatoeba.org/eng/sentences/show/6864685  \n\nma Mewika li lon poka ma Kanata  \n- Sentence doesn't end with punctuation  \n- http://tatoeba.org/eng/sentences/show/6864692  \n\nike ale ni li tan mi  \n- Sentence doesn't end with punctuation  \n- http://tatoeba.org/eng/sentences/show/7758436  \n\njan Tan li pana e suwi pimeja tawa jan Linta  \n- Sentence doesn't end with punctuation  \n- http://tatoeba.org/eng/sentences/show/7778509  \n\npipi li lon tenpo lili  \n- Sentence doesn't end with punctuation  \n- http://tatoeba.org/eng/sentences/show/7785521  \n\no kama lon poka mi  \n- Sentence doesn't end with punctuation  \n- http://tatoeba.org/eng/sentences/show/7893457  \n\npona tawa sina  \n- Sentence doesn't end with punctuation  \n- http://tatoeba.org/eng/sentences/show/8129773  \n\n\n\n***\n \n\n### Likely Error report for user Goatstein\n\n\nlen noka ni lli len kiwen.  \n- likely misspelled word: lli  \n- http://tatoeba.org/eng/sentences/show/7775311  \n\ntenpo pini la, jan Ton ken ala lukin e jan.  \n- 'e' without 'li'/'mi'/'sina'/'o'  \n- http://tatoeba.org/eng/sentences/show/7792134  \n\ntenpo pini la, mi kama sona e ni: ma li tawa wawa lon ma tomo Awaji.  \n- forbidden syllables wu/wo/ji/ti  \n- http://tatoeba.org/eng/sentences/show/7792671  \n\nona li weka e kulupu mama ona li tawa lon ma Tajiti.  \n- forbidden syllables wu/wo/ji/ti  \n- http://tatoeba.org/eng/sentences/show/7797653  \n\ntenpo pimjea wan la, mi mute li ken ala ken awen lon tomo sina?  \n- likely misspelled word: pimjea  \n- http://tatoeba.org/eng/sentences/show/7797765  \n\nnimi \"anticonstitutionnellement\" li jo e nimi lili luka luka luka luka luka li nimi suli mute pi toki Kanse.  \n- forbidden syllables wu/wo/ji/ti  \n- http://tatoeba.org/eng/sentences/show/7798710  \n\nmama pi tenpo pini li sewi tawa kulupi ni.  \n- likely misspelled word: kulupi  \n- http://tatoeba.org/eng/sentences/show/7799863  \n\ntenpo pini la, mi moku mute. mi pana e mani lili  \n- Sentence doesn't end with punctuation  \n- http://tatoeba.org/eng/sentences/show/7805078  \n\ntenpo suno al la, seli li suli mute.  \n- likely misspelled word: al  \n- http://tatoeba.org/eng/sentences/show/7806808  \n\nteno suno pini ni la, lon tenpo ali la, ona li moku e telo nasa.  \n- likely misspelled word: teno  \n- http://tatoeba.org/eng/sentences/show/7808296  \n\ntenpo seme la sina li weka e lon ni?  \n- mi\\sina li  \n- http://tatoeba.org/eng/sentences/show/7810236  \n\ntenpo suno kama ni la, seli e mute seme?  \n- 'e' without 'li'/'mi'/'sina'/'o'  \n- http://tatoeba.org/eng/sentences/show/7815138  \n\njan Ton li weka e ino tenpo ona.  \n- likely misspelled word: ino  \n- http://tatoeba.org/eng/sentences/show/7818266  \n\njan Peti o, ni li mije lili sina anu seme?  \n- forbidden syllables wu/wo/ji/ti  \n- http://tatoeba.org/eng/sentences/show/7827545  \n\njan Ton il wile moli e sina tan seme?  \n- likely misspelled word: il  \n- http://tatoeba.org/eng/sentences/show/7833611  \n\npoki li jo e kili liji loje mute.  \n- forbidden syllables wu/wo/ji/ti  \n- http://tatoeba.org/eng/sentences/show/7834553  \n\npoki li jo e kili liji loje mute.  \n- likely misspelled word: liji  \n- http://tatoeba.org/eng/sentences/show/7834553  \n\njan Peti li telo e kasi kule.  \n- forbidden syllables wu/wo/ji/ti  \n- http://tatoeba.org/eng/sentences/show/7836199  \n\nawen lon kulupu linja li ike mute awa mi.  \n- likely misspelled word: awa  \n- http://tatoeba.org/eng/sentences/show/7840617  \n\nsike suno ni la, mi mute li jo e ko lete mute. sike suno pini la, mi mute li joe ko lete lili.  \n- likely misspelled word: joe  \n- http://tatoeba.org/eng/sentences/show/7842362  \n\ntenpo pini lila la, mi toki e ona tawa jan ton.  \n- likely misspelled word: lila  \n- http://tatoeba.org/eng/sentences/show/7866735  \n\ntenpo pini lila la, mi toki e ona tawa jan ton.  \n- likely misspelled word: ton  \n- http://tatoeba.org/eng/sentences/show/7866735  \n\njan Pati li kalama musi li tawa musi.  \n- forbidden syllables wu/wo/ji/ti  \n- http://tatoeba.org/eng/sentences/show/7868365  \n\njan Kanti li toki lon.  \n- forbidden syllables wu/wo/ji/ti  \n- http://tatoeba.org/eng/sentences/show/7868502  \n\nma Awaji li ma pona kin.  \n- forbidden syllables wu/wo/ji/ti  \n- http://tatoeba.org/eng/sentences/show/7868504  \n\ntenpo ijo la, sina li seli ala seli e ilo nasa pi kiwen wawa?  \n- mi\\sina li  \n- http://tatoeba.org/eng/sentences/show/7869710  \n\nmi wile tawa ma Awaiji.  \n- forbidden syllables wu/wo/ji/ti  \n- http://tatoeba.org/eng/sentences/show/7956237  \n\njan Sami li lon ma tomo Pakati.  \n- forbidden syllables wu/wo/ji/ti  \n- http://tatoeba.org/eng/sentences/show/7977227  \n\ntenpo kin la, o lukin tawa e moku sama lon telo suli ali. kala ali li moku e kali ali, li utala ali tan tenpo pi ali open.  \n- likely misspelled word: kali  \n- http://tatoeba.org/eng/sentences/show/8001227  \n\nsine wile e ijo seme?  \n- 'e' without 'li'/'mi'/'sina'/'o'  \n- http://tatoeba.org/eng/sentences/show/8069210  \n\nsine wile e ijo seme?  \n- likely misspelled word: sine  \n- http://tatoeba.org/eng/sentences/show/8069210  \n\njan mute li sona e sitelen jan Tatinka pi jan Lotin.  \n- forbidden syllables wu/wo/ji/ti  \n- http://tatoeba.org/eng/sentences/show/8084875  \n\nnimi mi li nimi Osimantija. mi jan lawa pi jan lawa. jan wawa o, lukin e pali mi, o pilin anpa a!  \n- forbidden syllables wu/wo/ji/ti  \n- http://tatoeba.org/eng/sentences/show/8086711  \n\nmi pilin e ni: musi Kantiku en musi sama li ike tawa tenpo.  \n- forbidden syllables wu/wo/ji/ti  \n- http://tatoeba.org/eng/sentences/show/8104755  \n\ntoki Alape non e ike mute.  \n- 'e' without 'li'/'mi'/'sina'/'o'  \n- http://tatoeba.org/eng/sentences/show/8115071  \n\ntoki Alape non e ike mute.  \n- likely misspelled word: non  \n- http://tatoeba.org/eng/sentences/show/8115071  \n\n\n\n***\n \n\n### Likely Error report for user Ilia2\n\n\njan pi ma Losi li nimi \"ъ\" sama \"твёрдый знак\". ona li nimi \"ь\" sama \"мягкий знак\".  \n- likely misspelled word: твёрдый  \n- http://tatoeba.org/eng/sentences/show/7887101  \n\njan pi ma Losi li nimi \"ъ\" sama \"твёрдый знак\". ona li nimi \"ь\" sama \"мягкий знак\".  \n- likely misspelled word: знак  \n- http://tatoeba.org/eng/sentences/show/7887101  \n\njan pi ma Losi li nimi \"ъ\" sama \"твёрдый знак\". ona li nimi \"ь\" sama \"мягкий знак\".  \n- likely misspelled word: мягкий  \n- http://tatoeba.org/eng/sentences/show/7887101  \n\njan pi ma Losi li nimi \"ъ\" sama \"твёрдый знак\". ona li nimi \"ь\" sama \"мягкий знак\".  \n- likely misspelled word: знак  \n- http://tatoeba.org/eng/sentences/show/7887101  \n\n\n\n***\n \n\n### Likely Error report for user epiceric9\n\n\nona li weka e kulupu mama ona li tawa lon ma Tawiti.  \n- forbidden syllables wu/wo/ji/ti  \n- http://tatoeba.org/eng/sentences/show/8116919  \n\n\n\n***\n \n\n### Likely Error report for user shou\n\n\npona  \n- Sentence doesn't end with punctuation  \n- http://tatoeba.org/eng/sentences/show/8719275  \n\n\n\n***\n \n\n### Likely Error report for user Aleks\n\n\nTom ĉiutage lavas siajn dentojn.  \n- likely misspelled word: ĉiutage  \n- http://tatoeba.org/eng/sentences/show/9083237  \n\nTom ĉiutage lavas siajn dentojn.  \n- likely misspelled word: lavas  \n- http://tatoeba.org/eng/sentences/show/9083237  \n\nTom ĉiutage lavas siajn dentojn.  \n- likely misspelled word: siajn  \n- http://tatoeba.org/eng/sentences/show/9083237  \n\nTom ĉiutage lavas siajn dentojn.  \n- likely misspelled word: dentojn  \n- http://tatoeba.org/eng/sentences/show/9083237  \n\ntenpo pini la, mi lukin e jan lawa meli  \n- Sentence doesn't end with punctuation  \n- http://tatoeba.org/eng/sentences/show/9085360  \n\n\n\n***\n \n\n### Likely Error report for user Yl\n\n\nmi tan ma Sonko  \n- Sentence doesn't end with punctuation  \n- http://tatoeba.org/eng/sentences/show/9131306  \n\njan Ale li tonsi  \n- Sentence doesn't end with punctuation  \n- http://tatoeba.org/eng/sentences/show/9131889  \n\nlipu ni li jo la, jan tu li ken kama insa  \n- Sentence doesn't end with punctuation  \n- http://tatoeba.org/eng/sentences/show/9132036  \n\n\n\n***\n \n\n### Likely Error report for user eltacodemex\n\n\nsina toki e toki katala, anu seme?  \n- likely misspelled word: katala  \n- http://tatoeba.org/eng/sentences/show/9178220  \n\n\n\n***\n \n\n### Likely Error report for user Sobsz\n\n\nsina ken ala powe e mi.  \n- likely misspelled word: powe  \n- http://tatoeba.org/eng/sentences/show/9331471  \n\n\n\n***\n \n\n### Likely Error report for user inkepa\n\n\nwaso li awen lon sike, la wasli lili sin li kama tan ona.  \n- likely misspelled word: wasli  \n- http://tatoeba.org/eng/sentences/show/9354130  \n\nmi moki ala e ni.  \n- likely misspelled word: moki  \n- http://tatoeba.org/eng/sentences/show/9381359  \n\njan ton li jan pi anpa mute.  \n- likely misspelled word: ton  \n- http://tatoeba.org/eng/sentences/show/9392947  \n\njan Pati li anpa, li sona.  \n- forbidden syllables wu/wo/ji/ti  \n- http://tatoeba.org/eng/sentences/show/9392949  \n",
            "text/plain": [
              "<IPython.core.display.Markdown object>"
            ]
          },
          "metadata": {
            "tags": []
          }
        }
      ]
    },
    {
      "cell_type": "code",
      "metadata": {
        "id": "paYYpNIJ2Jln",
        "colab": {
          "base_uri": "https://localhost:8080/"
        },
        "outputId": "4e282532-1b0c-450a-9171-486db087acc8"
      },
      "source": [
        "\n",
        "with open('/content/output.MD','w') as writefile: \n",
        " writefile.write(output)\n",
        "print(\"file written\")\n"
      ],
      "execution_count": 12,
      "outputs": [
        {
          "output_type": "stream",
          "text": [
            "file written\n"
          ],
          "name": "stdout"
        }
      ]
    },
    {
      "cell_type": "code",
      "metadata": {
        "id": "gGfvhJ8OVuZJ"
      },
      "source": [
        "with open('drive/MyDrive/tatoeba/test.txt', 'w') as writeFile:\n",
        "  writeFile.write(\"test\")"
      ],
      "execution_count": 11,
      "outputs": []
    }
  ]
}